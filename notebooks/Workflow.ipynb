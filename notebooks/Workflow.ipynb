{
 "cells": [
  {
   "cell_type": "markdown",
   "id": "02c89b0f",
   "metadata": {},
   "source": [
    "### Import packages"
   ]
  },
  {
   "cell_type": "code",
   "execution_count": 1,
   "id": "22925d30",
   "metadata": {},
   "outputs": [],
   "source": [
    "%load_ext autoreload\n",
    "%autoreload 2"
   ]
  },
  {
   "cell_type": "code",
   "execution_count": 2,
   "id": "ba9fc24f",
   "metadata": {},
   "outputs": [],
   "source": [
    "import os\n",
    "import numpy as np\n",
    "import pandas as pd\n",
    "import matplotlib.pyplot as plt\n",
    "\n",
    "import cv2\n",
    "from pydicom import dcmread\n",
    "from pydicom.data import get_testdata_file\n",
    "from PIL import Image\n",
    "\n",
    "from tensorflow.keras import Sequential, layers, models, optimizers\n",
    "from tensorflow.keras.callbacks import EarlyStopping\n",
    "# from tensorflow.keras.layers.experimental.preprocessing import Rescaling ?"
   ]
  },
  {
   "cell_type": "markdown",
   "id": "4aff7682",
   "metadata": {},
   "source": [
    "## Création du dataset"
   ]
  },
  {
   "cell_type": "markdown",
   "id": "fe4981a8",
   "metadata": {},
   "source": [
    "### Import dataset créé à partir des fichiers .csv"
   ]
  },
  {
   "cell_type": "code",
   "execution_count": null,
   "id": "3f2e8af3",
   "metadata": {},
   "outputs": [],
   "source": [
    "from covid_project.data import merged_df, get_simple_df\n",
    "csv_df = merged_df()\n",
    "simple_df = get_simple_df()\n",
    "print(csv_df.head(3))\n",
    "simple_df.head(3)"
   ]
  },
  {
   "cell_type": "markdown",
   "id": "75d9749f",
   "metadata": {},
   "source": [
    "### Création dataset image\n",
    "\n",
    "Utilisation d'un code OU de l'autre, les codes se recoupent"
   ]
  },
  {
   "cell_type": "markdown",
   "id": "54ba022d",
   "metadata": {
    "heading_collapsed": true
   },
   "source": [
    "#### Code Claire"
   ]
  },
  {
   "cell_type": "code",
   "execution_count": null,
   "id": "927d5009",
   "metadata": {
    "hidden": true
   },
   "outputs": [],
   "source": [
    "#from google.colab import drive\n",
    "#drive.mount('/content/drive/')"
   ]
  },
  {
   "cell_type": "code",
   "execution_count": 3,
   "id": "08c25493",
   "metadata": {
    "hidden": true
   },
   "outputs": [],
   "source": [
    "#Zeinab google drive path\n",
    "gdrive_path = 'https://drive.google.com/drive/folders/1kTQVjjV71w08EGUHnoVV1MCwdP7PxR0r' #à modifier\n",
    "dcm_path = os.path.join('..','raw_data')"
   ]
  },
  {
   "cell_type": "code",
   "execution_count": 12,
   "id": "40a01fad",
   "metadata": {
    "hidden": true
   },
   "outputs": [],
   "source": [
    "def load_image_data(loading_method):\n",
    "    if loading_method == 'colab':\n",
    "        data_path = gdrive_path\n",
    "    elif loading_method == 'direct':\n",
    "        data_path = dcm_path\n",
    "    file_names = [f for f in os.listdir(data_path) if f.endswith('.dcm')]\n",
    "    image_id = [key_name.replace('.dcm','') for key_name in file_names]\n",
    "    image_data = []\n",
    "    for ids,file in zip(image_id, file_names):\n",
    "        ds = dcmread(os.path.join(data_path, file))\n",
    "        image_data.append([ids, ds.StudyInstanceUID, ds.PatientSex, ds.ImagerPixelSpacing, ds.PhotometricInterpretation, ds.Rows, ds.Columns, ds.pixel_array])\n",
    "    return image_data"
   ]
  },
  {
   "cell_type": "code",
   "execution_count": 13,
   "id": "7bdb968f",
   "metadata": {
    "hidden": true
   },
   "outputs": [
    {
     "data": {
      "text/plain": [
       "['65761e66de9f',\n",
       " '00086460a852',\n",
       " 'F',\n",
       " 2330,\n",
       " 2783,\n",
       " array([[1392, 1389, 1390, ...,    0,    0,    0],\n",
       "        [1377, 1411, 1370, ...,    0,    0,    0],\n",
       "        [1373, 1397, 1401, ...,    0,    0,    0],\n",
       "        ...,\n",
       "        [   0,    0,    0, ..., 2476, 2490, 2453],\n",
       "        [   0,    0,    0, ..., 2515, 2541, 2509],\n",
       "        [   0,    0,    0, ..., 2517, 2489, 2488]], dtype=uint16)]"
      ]
     },
     "execution_count": 13,
     "metadata": {},
     "output_type": "execute_result"
    }
   ],
   "source": [
    "image_data = load_image_data('direct')\n",
    "image_data[0]"
   ]
  },
  {
   "cell_type": "code",
   "execution_count": 15,
   "id": "ed81b4a4",
   "metadata": {
    "hidden": true
   },
   "outputs": [
    {
     "name": "stdout",
     "output_type": "stream",
     "text": [
      "(5, 6)\n"
     ]
    },
    {
     "data": {
      "text/html": [
       "<div>\n",
       "<style scoped>\n",
       "    .dataframe tbody tr th:only-of-type {\n",
       "        vertical-align: middle;\n",
       "    }\n",
       "\n",
       "    .dataframe tbody tr th {\n",
       "        vertical-align: top;\n",
       "    }\n",
       "\n",
       "    .dataframe thead th {\n",
       "        text-align: right;\n",
       "    }\n",
       "</style>\n",
       "<table border=\"1\" class=\"dataframe\">\n",
       "  <thead>\n",
       "    <tr style=\"text-align: right;\">\n",
       "      <th></th>\n",
       "      <th>image_id</th>\n",
       "      <th>image_StudyInstanceUID</th>\n",
       "      <th>Patient_Sex</th>\n",
       "      <th>image_Rows</th>\n",
       "      <th>image_Columns</th>\n",
       "      <th>Pixel_array</th>\n",
       "    </tr>\n",
       "  </thead>\n",
       "  <tbody>\n",
       "    <tr>\n",
       "      <th>0</th>\n",
       "      <td>65761e66de9f</td>\n",
       "      <td>00086460a852</td>\n",
       "      <td>F</td>\n",
       "      <td>2330</td>\n",
       "      <td>2783</td>\n",
       "      <td>[[1392, 1389, 1390, 1390, 1350, 1385, 1360, 13...</td>\n",
       "    </tr>\n",
       "    <tr>\n",
       "      <th>1</th>\n",
       "      <td>51759b5579bc</td>\n",
       "      <td>000c9c05fd14</td>\n",
       "      <td>M</td>\n",
       "      <td>3093</td>\n",
       "      <td>2850</td>\n",
       "      <td>[[82, 81, 80, 81, 79, 80, 81, 78, 79, 77, 76, ...</td>\n",
       "    </tr>\n",
       "    <tr>\n",
       "      <th>2</th>\n",
       "      <td>bb4b1da810f3</td>\n",
       "      <td>0051d9b12e72</td>\n",
       "      <td>F</td>\n",
       "      <td>2336</td>\n",
       "      <td>2836</td>\n",
       "      <td>[[24335, 24448, 24548, 24551, 24336, 24244, 24...</td>\n",
       "    </tr>\n",
       "    <tr>\n",
       "      <th>3</th>\n",
       "      <td>3019399c31f4</td>\n",
       "      <td>005057b3f880</td>\n",
       "      <td>F</td>\n",
       "      <td>3052</td>\n",
       "      <td>3052</td>\n",
       "      <td>[[2848, 2863, 2885, 2891, 2899, 2919, 2894, 28...</td>\n",
       "    </tr>\n",
       "    <tr>\n",
       "      <th>4</th>\n",
       "      <td>f6293b1c49e2</td>\n",
       "      <td>00292f8c37bd</td>\n",
       "      <td>M</td>\n",
       "      <td>2539</td>\n",
       "      <td>3050</td>\n",
       "      <td>[[86, 88, 86, 86, 87, 86, 87, 87, 87, 87, 87, ...</td>\n",
       "    </tr>\n",
       "  </tbody>\n",
       "</table>\n",
       "</div>"
      ],
      "text/plain": [
       "       image_id image_StudyInstanceUID Patient_Sex  image_Rows  image_Columns  \\\n",
       "0  65761e66de9f           00086460a852           F        2330           2783   \n",
       "1  51759b5579bc           000c9c05fd14           M        3093           2850   \n",
       "2  bb4b1da810f3           0051d9b12e72           F        2336           2836   \n",
       "3  3019399c31f4           005057b3f880           F        3052           3052   \n",
       "4  f6293b1c49e2           00292f8c37bd           M        2539           3050   \n",
       "\n",
       "                                         Pixel_array  \n",
       "0  [[1392, 1389, 1390, 1390, 1350, 1385, 1360, 13...  \n",
       "1  [[82, 81, 80, 81, 79, 80, 81, 78, 79, 77, 76, ...  \n",
       "2  [[24335, 24448, 24548, 24551, 24336, 24244, 24...  \n",
       "3  [[2848, 2863, 2885, 2891, 2899, 2919, 2894, 28...  \n",
       "4  [[86, 88, 86, 86, 87, 86, 87, 87, 87, 87, 87, ...  "
      ]
     },
     "execution_count": 15,
     "metadata": {},
     "output_type": "execute_result"
    }
   ],
   "source": [
    "train_metadata = pd.DataFrame(image_data, columns=['image_id','image_StudyInstanceUID','Patient_Sex', \"ImagerPixelSpacing\", \"PhotometricInterpretation\", 'image_Rows','image_Columns','pixel_array'])\n",
    "print(images_df.shape)\n",
    "train_metadata.head()"
   ]
  },
  {
   "cell_type": "markdown",
   "id": "d5709823",
   "metadata": {
    "heading_collapsed": true
   },
   "source": [
    "#### Code Zeinab"
   ]
  },
  {
   "cell_type": "code",
   "execution_count": null,
   "id": "8765547e",
   "metadata": {
    "hidden": true
   },
   "outputs": [],
   "source": [
    "destination_path =  \"/mnt/c/Users/Administrator/Desktop/COVID_Data/train_subset/New_train_subset\" "
   ]
  },
  {
   "cell_type": "code",
   "execution_count": null,
   "id": "9482c092",
   "metadata": {
    "hidden": true
   },
   "outputs": [],
   "source": [
    "images_list = os.listdir(destination_path)"
   ]
  },
  {
   "cell_type": "code",
   "execution_count": null,
   "id": "665dbf71",
   "metadata": {
    "hidden": true
   },
   "outputs": [],
   "source": [
    "columns = [\"PatientSex\", \"ImagerPixelSpacing\",\n",
    "           \"SeriesInstanceUID\", \"PhotometricInterpretation\",\n",
    "           \"Rows\", \"Columns\", \"pixel_array\"]"
   ]
  },
  {
   "cell_type": "code",
   "execution_count": null,
   "id": "7c5ba244",
   "metadata": {
    "hidden": true
   },
   "outputs": [],
   "source": [
    "train_metadata =  pd.DataFrame(columns=columns)\n",
    "new_images_list =[]\n",
    "for i in images_list:\n",
    "    fs=pydicom.read_file(destination_path+\"/\"+i, stop_before_pixels=True)\n",
    "    train_metadata = train_metadata.append({field: fs[field].value for field in columns}, ignore_index=True)\n",
    "    element = i.replace(\".dcm\", \"\")\n",
    "    new_images_list.append(element)\n",
    "train_metadata['image_id'] = new_images_list"
   ]
  },
  {
   "cell_type": "code",
   "execution_count": null,
   "id": "2609ce72",
   "metadata": {
    "hidden": true
   },
   "outputs": [],
   "source": [
    "print(train_metadata.shape)\n",
    "train_metadata.head()"
   ]
  },
  {
   "cell_type": "markdown",
   "id": "01610da6",
   "metadata": {},
   "source": [
    "### Merge des df"
   ]
  },
  {
   "cell_type": "code",
   "execution_count": null,
   "id": "eb5c2d31",
   "metadata": {},
   "outputs": [],
   "source": [
    "big_df = simple_df.merge(train_metadata, on = 'image_id', how='inner')\n",
    "bif_df.head()"
   ]
  },
  {
   "cell_type": "code",
   "execution_count": null,
   "id": "421bea59",
   "metadata": {},
   "outputs": [],
   "source": [
    "X = big_df['pixel_array'] # ??? à vérifier, à passer en np.array ou en matrice? garder plus d'infos dans le df ?\n",
    "y = big_df[['Negative for Pneumonia','Typical Appearance','Indeterminate Appearance','Atypical Appearance']]"
   ]
  },
  {
   "cell_type": "code",
   "execution_count": null,
   "id": "f98386ed",
   "metadata": {},
   "outputs": [],
   "source": [
    "print(type(X))\n",
    "print(X.shape)\n",
    "len(X)"
   ]
  },
  {
   "cell_type": "code",
   "execution_count": null,
   "id": "a12b8c6c",
   "metadata": {},
   "outputs": [],
   "source": [
    "#train_val_test_split\n",
    "\n",
    "from sklearn.model_selection import train_test_split\n",
    "\n",
    "def train_val_test_split(X,y):\n",
    "    X_bis, X_test, y_bis, y_test = train_test_split(X, y, test_size=0.3)\n",
    "    X_train, X_val, y_train, y_val = train_test_split(X_bis, y_bis, test_size=0.2)\n",
    "    \n",
    "    return X_train, y_train, X_val, y_val, X_test, y_test\n",
    "\n",
    "X_train, y_train, X_val, y_val, X_test, y_test = train_val_test_split(X,y)"
   ]
  },
  {
   "cell_type": "markdown",
   "id": "6870a19d",
   "metadata": {},
   "source": [
    "## Modèle CNN"
   ]
  },
  {
   "cell_type": "code",
   "execution_count": null,
   "id": "fe31e711",
   "metadata": {},
   "outputs": [],
   "source": []
  },
  {
   "cell_type": "code",
   "execution_count": null,
   "id": "356fa189",
   "metadata": {},
   "outputs": [],
   "source": []
  },
  {
   "cell_type": "code",
   "execution_count": null,
   "id": "efca299b",
   "metadata": {},
   "outputs": [],
   "source": []
  }
 ],
 "metadata": {
  "kernelspec": {
   "display_name": "Python 3",
   "language": "python",
   "name": "python3"
  },
  "language_info": {
   "codemirror_mode": {
    "name": "ipython",
    "version": 3
   },
   "file_extension": ".py",
   "mimetype": "text/x-python",
   "name": "python",
   "nbconvert_exporter": "python",
   "pygments_lexer": "ipython3",
   "version": "3.8.6"
  },
  "toc": {
   "base_numbering": 1,
   "nav_menu": {},
   "number_sections": true,
   "sideBar": true,
   "skip_h1_title": false,
   "title_cell": "Table of Contents",
   "title_sidebar": "Contents",
   "toc_cell": false,
   "toc_position": {},
   "toc_section_display": true,
   "toc_window_display": false
  }
 },
 "nbformat": 4,
 "nbformat_minor": 5
}

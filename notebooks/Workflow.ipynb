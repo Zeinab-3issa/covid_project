{
 "cells": [
  {
   "cell_type": "markdown",
   "id": "02c89b0f",
   "metadata": {},
   "source": [
    "### Import packages"
   ]
  },
  {
   "cell_type": "code",
   "execution_count": 1,
   "id": "22925d30",
   "metadata": {},
   "outputs": [],
   "source": [
    "%load_ext autoreload\n",
    "%autoreload 2"
   ]
  },
  {
   "cell_type": "code",
   "execution_count": 2,
   "id": "ba9fc24f",
   "metadata": {},
   "outputs": [],
   "source": [
    "#import os\n",
    "import numpy as np\n",
    "import pandas as pd\n",
    "import matplotlib.pyplot as plt\n",
    "\n",
    "#import cv2\n",
    "#from pydicom import dcmread\n",
    "#from pydicom.data import get_testdata_file\n",
    "#from PIL import Image\n",
    "\n",
    "#from tensorflow.keras import Sequential, layers, models, optimizers\n",
    "#from tensorflow.keras.callbacks import EarlyStopping\n",
    "# from tensorflow.keras.layers.experimental.preprocessing import Rescaling ?"
   ]
  },
  {
   "cell_type": "markdown",
   "id": "4aff7682",
   "metadata": {},
   "source": [
    "## Création du dataset"
   ]
  },
  {
   "cell_type": "markdown",
   "id": "fe4981a8",
   "metadata": {},
   "source": [
    "### Import dataset créé à partir des fichiers .csv"
   ]
  },
  {
   "cell_type": "code",
   "execution_count": 3,
   "id": "3f2e8af3",
   "metadata": {},
   "outputs": [
    {
     "data": {
      "text/html": [
       "<div>\n",
       "<style scoped>\n",
       "    .dataframe tbody tr th:only-of-type {\n",
       "        vertical-align: middle;\n",
       "    }\n",
       "\n",
       "    .dataframe tbody tr th {\n",
       "        vertical-align: top;\n",
       "    }\n",
       "\n",
       "    .dataframe thead th {\n",
       "        text-align: right;\n",
       "    }\n",
       "</style>\n",
       "<table border=\"1\" class=\"dataframe\">\n",
       "  <thead>\n",
       "    <tr style=\"text-align: right;\">\n",
       "      <th></th>\n",
       "      <th>boxes</th>\n",
       "      <th>label</th>\n",
       "      <th>StudyInstanceUID</th>\n",
       "      <th>image_id</th>\n",
       "      <th>Negative for Pneumonia</th>\n",
       "      <th>Typical Appearance</th>\n",
       "      <th>Indeterminate Appearance</th>\n",
       "      <th>Atypical Appearance</th>\n",
       "    </tr>\n",
       "  </thead>\n",
       "  <tbody>\n",
       "    <tr>\n",
       "      <th>0</th>\n",
       "      <td>[{'x': 789.28836, 'y': 582.43035, 'width': 102...</td>\n",
       "      <td>opacity 1 789.28836 582.43035 1815.94498 2499....</td>\n",
       "      <td>5776db0cec75</td>\n",
       "      <td>000a312787f2</td>\n",
       "      <td>0</td>\n",
       "      <td>1</td>\n",
       "      <td>0</td>\n",
       "      <td>0</td>\n",
       "    </tr>\n",
       "    <tr>\n",
       "      <th>1</th>\n",
       "      <td>NaN</td>\n",
       "      <td>none 1 0 0 1 1</td>\n",
       "      <td>ff0879eb20ed</td>\n",
       "      <td>000c3a3f293f</td>\n",
       "      <td>1</td>\n",
       "      <td>0</td>\n",
       "      <td>0</td>\n",
       "      <td>0</td>\n",
       "    </tr>\n",
       "    <tr>\n",
       "      <th>2</th>\n",
       "      <td>[{'x': 677.42216, 'y': 197.97662, 'width': 867...</td>\n",
       "      <td>opacity 1 677.42216 197.97662 1545.21983 1197....</td>\n",
       "      <td>9d514ce429a7</td>\n",
       "      <td>0012ff7358bc</td>\n",
       "      <td>0</td>\n",
       "      <td>1</td>\n",
       "      <td>0</td>\n",
       "      <td>0</td>\n",
       "    </tr>\n",
       "  </tbody>\n",
       "</table>\n",
       "</div>"
      ],
      "text/plain": [
       "                                               boxes  \\\n",
       "0  [{'x': 789.28836, 'y': 582.43035, 'width': 102...   \n",
       "1                                                NaN   \n",
       "2  [{'x': 677.42216, 'y': 197.97662, 'width': 867...   \n",
       "\n",
       "                                               label StudyInstanceUID  \\\n",
       "0  opacity 1 789.28836 582.43035 1815.94498 2499....     5776db0cec75   \n",
       "1                                     none 1 0 0 1 1     ff0879eb20ed   \n",
       "2  opacity 1 677.42216 197.97662 1545.21983 1197....     9d514ce429a7   \n",
       "\n",
       "       image_id  Negative for Pneumonia  Typical Appearance  \\\n",
       "0  000a312787f2                       0                   1   \n",
       "1  000c3a3f293f                       1                   0   \n",
       "2  0012ff7358bc                       0                   1   \n",
       "\n",
       "   Indeterminate Appearance  Atypical Appearance  \n",
       "0                         0                    0  \n",
       "1                         0                    0  \n",
       "2                         0                    0  "
      ]
     },
     "execution_count": 3,
     "metadata": {},
     "output_type": "execute_result"
    }
   ],
   "source": [
    "from covid_project.data import merged_csv_df, csv_simple_df, load_image_data\n",
    "csv_df = merged_csv_df('local_path')\n",
    "csv_df.head(3)"
   ]
  },
  {
   "cell_type": "code",
   "execution_count": 4,
   "id": "1d7c08f9",
   "metadata": {},
   "outputs": [
    {
     "data": {
      "text/html": [
       "<div>\n",
       "<style scoped>\n",
       "    .dataframe tbody tr th:only-of-type {\n",
       "        vertical-align: middle;\n",
       "    }\n",
       "\n",
       "    .dataframe tbody tr th {\n",
       "        vertical-align: top;\n",
       "    }\n",
       "\n",
       "    .dataframe thead th {\n",
       "        text-align: right;\n",
       "    }\n",
       "</style>\n",
       "<table border=\"1\" class=\"dataframe\">\n",
       "  <thead>\n",
       "    <tr style=\"text-align: right;\">\n",
       "      <th></th>\n",
       "      <th>StudyInstanceUID</th>\n",
       "      <th>image_id</th>\n",
       "      <th>Negative for Pneumonia</th>\n",
       "      <th>Typical Appearance</th>\n",
       "      <th>Indeterminate Appearance</th>\n",
       "      <th>Atypical Appearance</th>\n",
       "    </tr>\n",
       "  </thead>\n",
       "  <tbody>\n",
       "    <tr>\n",
       "      <th>0</th>\n",
       "      <td>5776db0cec75</td>\n",
       "      <td>000a312787f2</td>\n",
       "      <td>0</td>\n",
       "      <td>1</td>\n",
       "      <td>0</td>\n",
       "      <td>0</td>\n",
       "    </tr>\n",
       "    <tr>\n",
       "      <th>1</th>\n",
       "      <td>ff0879eb20ed</td>\n",
       "      <td>000c3a3f293f</td>\n",
       "      <td>1</td>\n",
       "      <td>0</td>\n",
       "      <td>0</td>\n",
       "      <td>0</td>\n",
       "    </tr>\n",
       "    <tr>\n",
       "      <th>2</th>\n",
       "      <td>9d514ce429a7</td>\n",
       "      <td>0012ff7358bc</td>\n",
       "      <td>0</td>\n",
       "      <td>1</td>\n",
       "      <td>0</td>\n",
       "      <td>0</td>\n",
       "    </tr>\n",
       "  </tbody>\n",
       "</table>\n",
       "</div>"
      ],
      "text/plain": [
       "  StudyInstanceUID      image_id  Negative for Pneumonia  Typical Appearance  \\\n",
       "0     5776db0cec75  000a312787f2                       0                   1   \n",
       "1     ff0879eb20ed  000c3a3f293f                       1                   0   \n",
       "2     9d514ce429a7  0012ff7358bc                       0                   1   \n",
       "\n",
       "   Indeterminate Appearance  Atypical Appearance  \n",
       "0                         0                    0  \n",
       "1                         0                    0  \n",
       "2                         0                    0  "
      ]
     },
     "execution_count": 4,
     "metadata": {},
     "output_type": "execute_result"
    }
   ],
   "source": [
    "simple_df = csv_simple_df('local_path')\n",
    "simple_df.head(3)"
   ]
  },
  {
   "cell_type": "markdown",
   "id": "75d9749f",
   "metadata": {},
   "source": [
    "### Création dataset image\n",
    "\n",
    "Utilisation d'un code OU de l'autre, les codes se recoupent"
   ]
  },
  {
   "cell_type": "markdown",
   "id": "54ba022d",
   "metadata": {},
   "source": [
    "#### Code Claire"
   ]
  },
  {
   "cell_type": "code",
   "execution_count": null,
   "id": "927d5009",
   "metadata": {},
   "outputs": [],
   "source": [
    "# Si sur Colab, exécuter cette cellule\n",
    "from google.colab import drive\n",
    "drive.mount('/content/drive/')"
   ]
  },
  {
   "cell_type": "code",
   "execution_count": null,
   "id": "40a01fad",
   "metadata": {},
   "outputs": [],
   "source": [
    "# cellule à exécuter sur colab\n",
    "image_data = load_image_data('colab')\n",
    "image_data[0]"
   ]
  },
  {
   "cell_type": "code",
   "execution_count": 5,
   "id": "7bdb968f",
   "metadata": {},
   "outputs": [
    {
     "data": {
      "text/plain": [
       "['65761e66de9f',\n",
       " '00086460a852',\n",
       " 'F',\n",
       " [0.148, 0.148],\n",
       " 'MONOCHROME2',\n",
       " 2330,\n",
       " 2783,\n",
       " array([[1392, 1389, 1390, ...,    0,    0,    0],\n",
       "        [1377, 1411, 1370, ...,    0,    0,    0],\n",
       "        [1373, 1397, 1401, ...,    0,    0,    0],\n",
       "        ...,\n",
       "        [   0,    0,    0, ..., 2476, 2490, 2453],\n",
       "        [   0,    0,    0, ..., 2515, 2541, 2509],\n",
       "        [   0,    0,    0, ..., 2517, 2489, 2488]], dtype=uint16)]"
      ]
     },
     "execution_count": 5,
     "metadata": {},
     "output_type": "execute_result"
    }
   ],
   "source": [
    "# OU\n",
    "# cellule à exécuter en local\n",
    "image_data = load_image_data('direct')\n",
    "image_data[0]"
   ]
  },
  {
   "cell_type": "code",
   "execution_count": 6,
   "id": "ed81b4a4",
   "metadata": {},
   "outputs": [
    {
     "name": "stdout",
     "output_type": "stream",
     "text": [
      "(5, 8)\n"
     ]
    },
    {
     "data": {
      "text/html": [
       "<div>\n",
       "<style scoped>\n",
       "    .dataframe tbody tr th:only-of-type {\n",
       "        vertical-align: middle;\n",
       "    }\n",
       "\n",
       "    .dataframe tbody tr th {\n",
       "        vertical-align: top;\n",
       "    }\n",
       "\n",
       "    .dataframe thead th {\n",
       "        text-align: right;\n",
       "    }\n",
       "</style>\n",
       "<table border=\"1\" class=\"dataframe\">\n",
       "  <thead>\n",
       "    <tr style=\"text-align: right;\">\n",
       "      <th></th>\n",
       "      <th>image_id</th>\n",
       "      <th>image_StudyInstanceUID</th>\n",
       "      <th>Patient_Sex</th>\n",
       "      <th>ImagerPixelSpacing</th>\n",
       "      <th>PhotometricInterpretation</th>\n",
       "      <th>image_Rows</th>\n",
       "      <th>image_Columns</th>\n",
       "      <th>pixel_array</th>\n",
       "    </tr>\n",
       "  </thead>\n",
       "  <tbody>\n",
       "    <tr>\n",
       "      <th>0</th>\n",
       "      <td>65761e66de9f</td>\n",
       "      <td>00086460a852</td>\n",
       "      <td>F</td>\n",
       "      <td>[0.148, 0.148]</td>\n",
       "      <td>MONOCHROME2</td>\n",
       "      <td>2330</td>\n",
       "      <td>2783</td>\n",
       "      <td>[[1392, 1389, 1390, 1390, 1350, 1385, 1360, 13...</td>\n",
       "    </tr>\n",
       "    <tr>\n",
       "      <th>1</th>\n",
       "      <td>51759b5579bc</td>\n",
       "      <td>000c9c05fd14</td>\n",
       "      <td>M</td>\n",
       "      <td>[0.125, 0.125]</td>\n",
       "      <td>MONOCHROME2</td>\n",
       "      <td>3093</td>\n",
       "      <td>2850</td>\n",
       "      <td>[[82, 81, 80, 81, 79, 80, 81, 78, 79, 77, 76, ...</td>\n",
       "    </tr>\n",
       "    <tr>\n",
       "      <th>2</th>\n",
       "      <td>bb4b1da810f3</td>\n",
       "      <td>0051d9b12e72</td>\n",
       "      <td>F</td>\n",
       "      <td>[0.15, 0.15]</td>\n",
       "      <td>MONOCHROME1</td>\n",
       "      <td>2336</td>\n",
       "      <td>2836</td>\n",
       "      <td>[[24335, 24448, 24548, 24551, 24336, 24244, 24...</td>\n",
       "    </tr>\n",
       "    <tr>\n",
       "      <th>3</th>\n",
       "      <td>3019399c31f4</td>\n",
       "      <td>005057b3f880</td>\n",
       "      <td>F</td>\n",
       "      <td>[0.139, 0.139]</td>\n",
       "      <td>MONOCHROME1</td>\n",
       "      <td>3052</td>\n",
       "      <td>3052</td>\n",
       "      <td>[[2848, 2863, 2885, 2891, 2899, 2919, 2894, 28...</td>\n",
       "    </tr>\n",
       "    <tr>\n",
       "      <th>4</th>\n",
       "      <td>f6293b1c49e2</td>\n",
       "      <td>00292f8c37bd</td>\n",
       "      <td>M</td>\n",
       "      <td>[0.139, 0.139]</td>\n",
       "      <td>MONOCHROME2</td>\n",
       "      <td>2539</td>\n",
       "      <td>3050</td>\n",
       "      <td>[[86, 88, 86, 86, 87, 86, 87, 87, 87, 87, 87, ...</td>\n",
       "    </tr>\n",
       "  </tbody>\n",
       "</table>\n",
       "</div>"
      ],
      "text/plain": [
       "       image_id image_StudyInstanceUID Patient_Sex ImagerPixelSpacing  \\\n",
       "0  65761e66de9f           00086460a852           F     [0.148, 0.148]   \n",
       "1  51759b5579bc           000c9c05fd14           M     [0.125, 0.125]   \n",
       "2  bb4b1da810f3           0051d9b12e72           F       [0.15, 0.15]   \n",
       "3  3019399c31f4           005057b3f880           F     [0.139, 0.139]   \n",
       "4  f6293b1c49e2           00292f8c37bd           M     [0.139, 0.139]   \n",
       "\n",
       "  PhotometricInterpretation  image_Rows  image_Columns  \\\n",
       "0               MONOCHROME2        2330           2783   \n",
       "1               MONOCHROME2        3093           2850   \n",
       "2               MONOCHROME1        2336           2836   \n",
       "3               MONOCHROME1        3052           3052   \n",
       "4               MONOCHROME2        2539           3050   \n",
       "\n",
       "                                         pixel_array  \n",
       "0  [[1392, 1389, 1390, 1390, 1350, 1385, 1360, 13...  \n",
       "1  [[82, 81, 80, 81, 79, 80, 81, 78, 79, 77, 76, ...  \n",
       "2  [[24335, 24448, 24548, 24551, 24336, 24244, 24...  \n",
       "3  [[2848, 2863, 2885, 2891, 2899, 2919, 2894, 28...  \n",
       "4  [[86, 88, 86, 86, 87, 86, 87, 87, 87, 87, 87, ...  "
      ]
     },
     "execution_count": 6,
     "metadata": {},
     "output_type": "execute_result"
    }
   ],
   "source": [
    "train_metadata = pd.DataFrame(image_data, columns=['image_id','image_StudyInstanceUID','Patient_Sex', \"ImagerPixelSpacing\", \"PhotometricInterpretation\", 'image_Rows','image_Columns','pixel_array'])\n",
    "print(train_metadata.shape)\n",
    "train_metadata.head()"
   ]
  },
  {
   "cell_type": "code",
   "execution_count": 7,
   "id": "f0bdff0b",
   "metadata": {},
   "outputs": [
    {
     "name": "stdout",
     "output_type": "stream",
     "text": [
      "<class 'numpy.ndarray'>\n",
      "(2330, 2783)\n"
     ]
    },
    {
     "data": {
      "text/plain": [
       "array([[1392, 1389, 1390, ...,    0,    0,    0],\n",
       "       [1377, 1411, 1370, ...,    0,    0,    0],\n",
       "       [1373, 1397, 1401, ...,    0,    0,    0],\n",
       "       ...,\n",
       "       [   0,    0,    0, ..., 2476, 2490, 2453],\n",
       "       [   0,    0,    0, ..., 2515, 2541, 2509],\n",
       "       [   0,    0,    0, ..., 2517, 2489, 2488]], dtype=uint16)"
      ]
     },
     "execution_count": 7,
     "metadata": {},
     "output_type": "execute_result"
    }
   ],
   "source": [
    "print(type(train_metadata['pixel_array'][0]))\n",
    "print(train_metadata['pixel_array'][0].shape)\n",
    "train_metadata['pixel_array'][0]"
   ]
  },
  {
   "cell_type": "markdown",
   "id": "d5709823",
   "metadata": {
    "heading_collapsed": true
   },
   "source": [
    "#### Code Zeinab"
   ]
  },
  {
   "cell_type": "code",
   "execution_count": null,
   "id": "1074966f",
   "metadata": {
    "hidden": true
   },
   "outputs": [],
   "source": [
    "from google.colab import drive\n",
    "drive.mount('/content/drive/')"
   ]
  },
  {
   "cell_type": "code",
   "execution_count": null,
   "id": "e502c33d",
   "metadata": {
    "hidden": true
   },
   "outputs": [],
   "source": [
    "#éxecuter cette cellule sur google drive\n",
    "destination_path = '/content/drive/MyDrive/New_train_subset/'"
   ]
  },
  {
   "cell_type": "code",
   "execution_count": null,
   "id": "8765547e",
   "metadata": {
    "hidden": true
   },
   "outputs": [],
   "source": [
    "# éxecuter cette cellule si en local\n",
    "destination_path =  \"/mnt/c/Users/Administrator/Desktop/COVID_Data/train_subset/New_train_subset\" "
   ]
  },
  {
   "cell_type": "code",
   "execution_count": null,
   "id": "9482c092",
   "metadata": {
    "hidden": true
   },
   "outputs": [],
   "source": [
    "images_list = os.listdir(destination_path)"
   ]
  },
  {
   "cell_type": "code",
   "execution_count": null,
   "id": "665dbf71",
   "metadata": {
    "hidden": true
   },
   "outputs": [],
   "source": [
    "columns = [\"PatientSex\", \"ImagerPixelSpacing\",\n",
    "           \"SeriesInstanceUID\", \"PhotometricInterpretation\",\n",
    "           \"Rows\", \"Columns\", \"pixel_array\"]"
   ]
  },
  {
   "cell_type": "code",
   "execution_count": null,
   "id": "7c5ba244",
   "metadata": {
    "hidden": true
   },
   "outputs": [],
   "source": [
    "train_metadata =  pd.DataFrame(columns=columns)\n",
    "new_images_list =[]\n",
    "for i in images_list:\n",
    "    fs=pydicom.read_file(destination_path+\"/\"+i, stop_before_pixels=True)\n",
    "    train_metadata = train_metadata.append({field: fs[field].value for field in columns}, ignore_index=True)\n",
    "    element = i.replace(\".dcm\", \"\")\n",
    "    new_images_list.append(element)\n",
    "train_metadata['image_id'] = new_images_list"
   ]
  },
  {
   "cell_type": "code",
   "execution_count": null,
   "id": "2609ce72",
   "metadata": {
    "hidden": true
   },
   "outputs": [],
   "source": [
    "print(train_metadata.shape)\n",
    "train_metadata.head()"
   ]
  },
  {
   "cell_type": "markdown",
   "id": "01610da6",
   "metadata": {},
   "source": [
    "### Merge des df"
   ]
  },
  {
   "cell_type": "code",
   "execution_count": 15,
   "id": "eb5c2d31",
   "metadata": {},
   "outputs": [
    {
     "data": {
      "text/html": [
       "<div>\n",
       "<style scoped>\n",
       "    .dataframe tbody tr th:only-of-type {\n",
       "        vertical-align: middle;\n",
       "    }\n",
       "\n",
       "    .dataframe tbody tr th {\n",
       "        vertical-align: top;\n",
       "    }\n",
       "\n",
       "    .dataframe thead th {\n",
       "        text-align: right;\n",
       "    }\n",
       "</style>\n",
       "<table border=\"1\" class=\"dataframe\">\n",
       "  <thead>\n",
       "    <tr style=\"text-align: right;\">\n",
       "      <th></th>\n",
       "      <th>image_id</th>\n",
       "      <th>image_StudyInstanceUID</th>\n",
       "      <th>Patient_Sex</th>\n",
       "      <th>ImagerPixelSpacing</th>\n",
       "      <th>PhotometricInterpretation</th>\n",
       "      <th>image_Rows</th>\n",
       "      <th>image_Columns</th>\n",
       "      <th>pixel_array</th>\n",
       "      <th>boxes</th>\n",
       "      <th>label</th>\n",
       "      <th>Negative for Pneumonia</th>\n",
       "      <th>Typical Appearance</th>\n",
       "      <th>Indeterminate Appearance</th>\n",
       "      <th>Atypical Appearance</th>\n",
       "    </tr>\n",
       "  </thead>\n",
       "  <tbody>\n",
       "    <tr>\n",
       "      <th>0</th>\n",
       "      <td>65761e66de9f</td>\n",
       "      <td>00086460a852</td>\n",
       "      <td>F</td>\n",
       "      <td>[0.148, 0.148]</td>\n",
       "      <td>MONOCHROME2</td>\n",
       "      <td>2330</td>\n",
       "      <td>2783</td>\n",
       "      <td>[[1392, 1389, 1390, 1390, 1350, 1385, 1360, 13...</td>\n",
       "      <td>[{'x': 720.65215, 'y': 636.51048, 'width': 332...</td>\n",
       "      <td>opacity 1 720.65215 636.51048 1052.84563 1284....</td>\n",
       "      <td>0</td>\n",
       "      <td>1</td>\n",
       "      <td>0</td>\n",
       "      <td>0</td>\n",
       "    </tr>\n",
       "    <tr>\n",
       "      <th>1</th>\n",
       "      <td>51759b5579bc</td>\n",
       "      <td>000c9c05fd14</td>\n",
       "      <td>M</td>\n",
       "      <td>[0.125, 0.125]</td>\n",
       "      <td>MONOCHROME2</td>\n",
       "      <td>3093</td>\n",
       "      <td>2850</td>\n",
       "      <td>[[82, 81, 80, 81, 79, 80, 81, 78, 79, 77, 76, ...</td>\n",
       "      <td>NaN</td>\n",
       "      <td>none 1 0 0 1 1</td>\n",
       "      <td>0</td>\n",
       "      <td>0</td>\n",
       "      <td>0</td>\n",
       "      <td>1</td>\n",
       "    </tr>\n",
       "    <tr>\n",
       "      <th>2</th>\n",
       "      <td>bb4b1da810f3</td>\n",
       "      <td>0051d9b12e72</td>\n",
       "      <td>F</td>\n",
       "      <td>[0.15, 0.15]</td>\n",
       "      <td>MONOCHROME1</td>\n",
       "      <td>2336</td>\n",
       "      <td>2836</td>\n",
       "      <td>[[24335, 24448, 24548, 24551, 24336, 24244, 24...</td>\n",
       "      <td>[{'x': 812.54698, 'y': 1376.41291, 'width': 62...</td>\n",
       "      <td>opacity 1 812.54698 1376.41291 1435.14793 1806...</td>\n",
       "      <td>0</td>\n",
       "      <td>0</td>\n",
       "      <td>0</td>\n",
       "      <td>1</td>\n",
       "    </tr>\n",
       "    <tr>\n",
       "      <th>3</th>\n",
       "      <td>3019399c31f4</td>\n",
       "      <td>005057b3f880</td>\n",
       "      <td>F</td>\n",
       "      <td>[0.139, 0.139]</td>\n",
       "      <td>MONOCHROME1</td>\n",
       "      <td>3052</td>\n",
       "      <td>3052</td>\n",
       "      <td>[[2848, 2863, 2885, 2891, 2899, 2919, 2894, 28...</td>\n",
       "      <td>NaN</td>\n",
       "      <td>none 1 0 0 1 1</td>\n",
       "      <td>1</td>\n",
       "      <td>0</td>\n",
       "      <td>0</td>\n",
       "      <td>0</td>\n",
       "    </tr>\n",
       "    <tr>\n",
       "      <th>4</th>\n",
       "      <td>f6293b1c49e2</td>\n",
       "      <td>00292f8c37bd</td>\n",
       "      <td>M</td>\n",
       "      <td>[0.139, 0.139]</td>\n",
       "      <td>MONOCHROME2</td>\n",
       "      <td>2539</td>\n",
       "      <td>3050</td>\n",
       "      <td>[[86, 88, 86, 86, 87, 86, 87, 87, 87, 87, 87, ...</td>\n",
       "      <td>NaN</td>\n",
       "      <td>none 1 0 0 1 1</td>\n",
       "      <td>1</td>\n",
       "      <td>0</td>\n",
       "      <td>0</td>\n",
       "      <td>0</td>\n",
       "    </tr>\n",
       "  </tbody>\n",
       "</table>\n",
       "</div>"
      ],
      "text/plain": [
       "       image_id image_StudyInstanceUID Patient_Sex ImagerPixelSpacing  \\\n",
       "0  65761e66de9f           00086460a852           F     [0.148, 0.148]   \n",
       "1  51759b5579bc           000c9c05fd14           M     [0.125, 0.125]   \n",
       "2  bb4b1da810f3           0051d9b12e72           F       [0.15, 0.15]   \n",
       "3  3019399c31f4           005057b3f880           F     [0.139, 0.139]   \n",
       "4  f6293b1c49e2           00292f8c37bd           M     [0.139, 0.139]   \n",
       "\n",
       "  PhotometricInterpretation  image_Rows  image_Columns  \\\n",
       "0               MONOCHROME2        2330           2783   \n",
       "1               MONOCHROME2        3093           2850   \n",
       "2               MONOCHROME1        2336           2836   \n",
       "3               MONOCHROME1        3052           3052   \n",
       "4               MONOCHROME2        2539           3050   \n",
       "\n",
       "                                         pixel_array  \\\n",
       "0  [[1392, 1389, 1390, 1390, 1350, 1385, 1360, 13...   \n",
       "1  [[82, 81, 80, 81, 79, 80, 81, 78, 79, 77, 76, ...   \n",
       "2  [[24335, 24448, 24548, 24551, 24336, 24244, 24...   \n",
       "3  [[2848, 2863, 2885, 2891, 2899, 2919, 2894, 28...   \n",
       "4  [[86, 88, 86, 86, 87, 86, 87, 87, 87, 87, 87, ...   \n",
       "\n",
       "                                               boxes  \\\n",
       "0  [{'x': 720.65215, 'y': 636.51048, 'width': 332...   \n",
       "1                                                NaN   \n",
       "2  [{'x': 812.54698, 'y': 1376.41291, 'width': 62...   \n",
       "3                                                NaN   \n",
       "4                                                NaN   \n",
       "\n",
       "                                               label  Negative for Pneumonia  \\\n",
       "0  opacity 1 720.65215 636.51048 1052.84563 1284....                       0   \n",
       "1                                     none 1 0 0 1 1                       0   \n",
       "2  opacity 1 812.54698 1376.41291 1435.14793 1806...                       0   \n",
       "3                                     none 1 0 0 1 1                       1   \n",
       "4                                     none 1 0 0 1 1                       1   \n",
       "\n",
       "   Typical Appearance  Indeterminate Appearance  Atypical Appearance  \n",
       "0                   1                         0                    0  \n",
       "1                   0                         0                    1  \n",
       "2                   0                         0                    1  \n",
       "3                   0                         0                    0  \n",
       "4                   0                         0                    0  "
      ]
     },
     "execution_count": 15,
     "metadata": {},
     "output_type": "execute_result"
    }
   ],
   "source": [
    "big_df = train_metadata.merge(csv_df, on = 'image_id', how='inner')\n",
    "if big_df['image_StudyInstanceUID'].all() == big_df['StudyInstanceUID'].all():\n",
    "    big_df = big_df.drop(columns= 'StudyInstanceUID')\n",
    "big_df.head()"
   ]
  },
  {
   "cell_type": "code",
   "execution_count": 11,
   "id": "421bea59",
   "metadata": {},
   "outputs": [],
   "source": [
    "X = big_df['pixel_array'] # ??? à vérifier, à passer en np.array ou en matrice? garder plus d'infos dans le df ?\n",
    "y = big_df[['Negative for Pneumonia','Typical Appearance','Indeterminate Appearance','Atypical Appearance']]"
   ]
  },
  {
   "cell_type": "code",
   "execution_count": 12,
   "id": "f98386ed",
   "metadata": {},
   "outputs": [
    {
     "name": "stdout",
     "output_type": "stream",
     "text": [
      "<class 'pandas.core.series.Series'>\n",
      "(5,)\n"
     ]
    },
    {
     "data": {
      "text/plain": [
       "5"
      ]
     },
     "execution_count": 12,
     "metadata": {},
     "output_type": "execute_result"
    }
   ],
   "source": [
    "print(type(X))\n",
    "print(X.shape)\n",
    "len(X)"
   ]
  },
  {
   "cell_type": "markdown",
   "id": "6870a19d",
   "metadata": {},
   "source": [
    "## Modèle CNN"
   ]
  },
  {
   "cell_type": "code",
   "execution_count": null,
   "id": "a12b8c6c",
   "metadata": {},
   "outputs": [],
   "source": [
    "#train_val_test_split\n"
   ]
  },
  {
   "cell_type": "code",
   "execution_count": null,
   "id": "fe31e711",
   "metadata": {},
   "outputs": [],
   "source": []
  },
  {
   "cell_type": "code",
   "execution_count": null,
   "id": "356fa189",
   "metadata": {},
   "outputs": [],
   "source": []
  },
  {
   "cell_type": "code",
   "execution_count": null,
   "id": "efca299b",
   "metadata": {},
   "outputs": [],
   "source": []
  }
 ],
 "metadata": {
  "kernelspec": {
   "display_name": "Python 3",
   "language": "python",
   "name": "python3"
  },
  "language_info": {
   "codemirror_mode": {
    "name": "ipython",
    "version": 3
   },
   "file_extension": ".py",
   "mimetype": "text/x-python",
   "name": "python",
   "nbconvert_exporter": "python",
   "pygments_lexer": "ipython3",
   "version": "3.8.6"
  },
  "toc": {
   "base_numbering": 1,
   "nav_menu": {},
   "number_sections": true,
   "sideBar": true,
   "skip_h1_title": false,
   "title_cell": "Table of Contents",
   "title_sidebar": "Contents",
   "toc_cell": false,
   "toc_position": {},
   "toc_section_display": true,
   "toc_window_display": false
  }
 },
 "nbformat": 4,
 "nbformat_minor": 5
}

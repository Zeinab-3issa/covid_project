{
 "cells": [
  {
   "cell_type": "code",
   "execution_count": 1,
   "id": "b53231f0",
   "metadata": {},
   "outputs": [],
   "source": [
    "import numpy as np\n",
    "import pandas as pd\n",
    "\n",
    "import os\n",
    "from pydicom import dcmread"
   ]
  },
  {
   "cell_type": "code",
   "execution_count": 2,
   "id": "4213ea9e",
   "metadata": {},
   "outputs": [],
   "source": [
    "image = pd.read_csv('../raw_data/train_image_level.csv')\n",
    "study = pd.read_csv('../raw_data/train_study_level.csv')\n",
    "df_image = image.copy()\n",
    "df_study = study.copy()"
   ]
  },
  {
   "cell_type": "code",
   "execution_count": 3,
   "id": "adeec95c",
   "metadata": {},
   "outputs": [
    {
     "name": "stdout",
     "output_type": "stream",
     "text": [
      "(6334, 4)\n"
     ]
    },
    {
     "data": {
      "text/html": [
       "<div>\n",
       "<style scoped>\n",
       "    .dataframe tbody tr th:only-of-type {\n",
       "        vertical-align: middle;\n",
       "    }\n",
       "\n",
       "    .dataframe tbody tr th {\n",
       "        vertical-align: top;\n",
       "    }\n",
       "\n",
       "    .dataframe thead th {\n",
       "        text-align: right;\n",
       "    }\n",
       "</style>\n",
       "<table border=\"1\" class=\"dataframe\">\n",
       "  <thead>\n",
       "    <tr style=\"text-align: right;\">\n",
       "      <th></th>\n",
       "      <th>id</th>\n",
       "      <th>boxes</th>\n",
       "      <th>label</th>\n",
       "      <th>StudyInstanceUID</th>\n",
       "    </tr>\n",
       "  </thead>\n",
       "  <tbody>\n",
       "    <tr>\n",
       "      <th>0</th>\n",
       "      <td>000a312787f2_image</td>\n",
       "      <td>[{'x': 789.28836, 'y': 582.43035, 'width': 102...</td>\n",
       "      <td>opacity 1 789.28836 582.43035 1815.94498 2499....</td>\n",
       "      <td>5776db0cec75</td>\n",
       "    </tr>\n",
       "    <tr>\n",
       "      <th>1</th>\n",
       "      <td>000c3a3f293f_image</td>\n",
       "      <td>NaN</td>\n",
       "      <td>none 1 0 0 1 1</td>\n",
       "      <td>ff0879eb20ed</td>\n",
       "    </tr>\n",
       "    <tr>\n",
       "      <th>2</th>\n",
       "      <td>0012ff7358bc_image</td>\n",
       "      <td>[{'x': 677.42216, 'y': 197.97662, 'width': 867...</td>\n",
       "      <td>opacity 1 677.42216 197.97662 1545.21983 1197....</td>\n",
       "      <td>9d514ce429a7</td>\n",
       "    </tr>\n",
       "    <tr>\n",
       "      <th>3</th>\n",
       "      <td>001398f4ff4f_image</td>\n",
       "      <td>[{'x': 2729, 'y': 2181.33331, 'width': 948.000...</td>\n",
       "      <td>opacity 1 2729 2181.33331 3677.00012 2785.33331</td>\n",
       "      <td>28dddc8559b2</td>\n",
       "    </tr>\n",
       "    <tr>\n",
       "      <th>4</th>\n",
       "      <td>001bd15d1891_image</td>\n",
       "      <td>[{'x': 623.23328, 'y': 1050, 'width': 714, 'he...</td>\n",
       "      <td>opacity 1 623.23328 1050 1337.23328 2156 opaci...</td>\n",
       "      <td>dfd9fdd85a3e</td>\n",
       "    </tr>\n",
       "  </tbody>\n",
       "</table>\n",
       "</div>"
      ],
      "text/plain": [
       "                   id                                              boxes  \\\n",
       "0  000a312787f2_image  [{'x': 789.28836, 'y': 582.43035, 'width': 102...   \n",
       "1  000c3a3f293f_image                                                NaN   \n",
       "2  0012ff7358bc_image  [{'x': 677.42216, 'y': 197.97662, 'width': 867...   \n",
       "3  001398f4ff4f_image  [{'x': 2729, 'y': 2181.33331, 'width': 948.000...   \n",
       "4  001bd15d1891_image  [{'x': 623.23328, 'y': 1050, 'width': 714, 'he...   \n",
       "\n",
       "                                               label StudyInstanceUID  \n",
       "0  opacity 1 789.28836 582.43035 1815.94498 2499....     5776db0cec75  \n",
       "1                                     none 1 0 0 1 1     ff0879eb20ed  \n",
       "2  opacity 1 677.42216 197.97662 1545.21983 1197....     9d514ce429a7  \n",
       "3    opacity 1 2729 2181.33331 3677.00012 2785.33331     28dddc8559b2  \n",
       "4  opacity 1 623.23328 1050 1337.23328 2156 opaci...     dfd9fdd85a3e  "
      ]
     },
     "execution_count": 3,
     "metadata": {},
     "output_type": "execute_result"
    }
   ],
   "source": [
    "print(df_image.shape)\n",
    "df_image.head()"
   ]
  },
  {
   "cell_type": "code",
   "execution_count": 4,
   "id": "0da731f6",
   "metadata": {
    "scrolled": true
   },
   "outputs": [
    {
     "name": "stdout",
     "output_type": "stream",
     "text": [
      "(6054, 5)\n"
     ]
    },
    {
     "data": {
      "text/html": [
       "<div>\n",
       "<style scoped>\n",
       "    .dataframe tbody tr th:only-of-type {\n",
       "        vertical-align: middle;\n",
       "    }\n",
       "\n",
       "    .dataframe tbody tr th {\n",
       "        vertical-align: top;\n",
       "    }\n",
       "\n",
       "    .dataframe thead th {\n",
       "        text-align: right;\n",
       "    }\n",
       "</style>\n",
       "<table border=\"1\" class=\"dataframe\">\n",
       "  <thead>\n",
       "    <tr style=\"text-align: right;\">\n",
       "      <th></th>\n",
       "      <th>id</th>\n",
       "      <th>Negative for Pneumonia</th>\n",
       "      <th>Typical Appearance</th>\n",
       "      <th>Indeterminate Appearance</th>\n",
       "      <th>Atypical Appearance</th>\n",
       "    </tr>\n",
       "  </thead>\n",
       "  <tbody>\n",
       "    <tr>\n",
       "      <th>0</th>\n",
       "      <td>00086460a852_study</td>\n",
       "      <td>0</td>\n",
       "      <td>1</td>\n",
       "      <td>0</td>\n",
       "      <td>0</td>\n",
       "    </tr>\n",
       "    <tr>\n",
       "      <th>1</th>\n",
       "      <td>000c9c05fd14_study</td>\n",
       "      <td>0</td>\n",
       "      <td>0</td>\n",
       "      <td>0</td>\n",
       "      <td>1</td>\n",
       "    </tr>\n",
       "    <tr>\n",
       "      <th>2</th>\n",
       "      <td>00292f8c37bd_study</td>\n",
       "      <td>1</td>\n",
       "      <td>0</td>\n",
       "      <td>0</td>\n",
       "      <td>0</td>\n",
       "    </tr>\n",
       "    <tr>\n",
       "      <th>3</th>\n",
       "      <td>005057b3f880_study</td>\n",
       "      <td>1</td>\n",
       "      <td>0</td>\n",
       "      <td>0</td>\n",
       "      <td>0</td>\n",
       "    </tr>\n",
       "    <tr>\n",
       "      <th>4</th>\n",
       "      <td>0051d9b12e72_study</td>\n",
       "      <td>0</td>\n",
       "      <td>0</td>\n",
       "      <td>0</td>\n",
       "      <td>1</td>\n",
       "    </tr>\n",
       "  </tbody>\n",
       "</table>\n",
       "</div>"
      ],
      "text/plain": [
       "                   id  Negative for Pneumonia  Typical Appearance  \\\n",
       "0  00086460a852_study                       0                   1   \n",
       "1  000c9c05fd14_study                       0                   0   \n",
       "2  00292f8c37bd_study                       1                   0   \n",
       "3  005057b3f880_study                       1                   0   \n",
       "4  0051d9b12e72_study                       0                   0   \n",
       "\n",
       "   Indeterminate Appearance  Atypical Appearance  \n",
       "0                         0                    0  \n",
       "1                         0                    1  \n",
       "2                         0                    0  \n",
       "3                         0                    0  \n",
       "4                         0                    1  "
      ]
     },
     "execution_count": 4,
     "metadata": {},
     "output_type": "execute_result"
    }
   ],
   "source": [
    "print(df_study.shape)\n",
    "df_study.head()"
   ]
  },
  {
   "cell_type": "code",
   "execution_count": 5,
   "id": "cae1abc3",
   "metadata": {},
   "outputs": [
    {
     "data": {
      "text/plain": [
       "Negative for Pneumonia  Typical Appearance  Indeterminate Appearance  Atypical Appearance\n",
       "0                       1                   0                         0                      2855\n",
       "1                       0                   0                         0                      1676\n",
       "0                       0                   1                         0                      1049\n",
       "                                            0                         1                       474\n",
       "dtype: int64"
      ]
     },
     "execution_count": 5,
     "metadata": {},
     "output_type": "execute_result"
    }
   ],
   "source": [
    "df_study[['Negative for Pneumonia','Typical Appearance','Indeterminate Appearance','Atypical Appearance']].value_counts()"
   ]
  },
  {
   "cell_type": "markdown",
   "id": "1cd7cfd3",
   "metadata": {
    "heading_collapsed": true
   },
   "source": [
    "## Etude et merge des DF"
   ]
  },
  {
   "cell_type": "code",
   "execution_count": 6,
   "id": "db296433",
   "metadata": {
    "hidden": true
   },
   "outputs": [
    {
     "data": {
      "text/plain": [
       "id                     0\n",
       "boxes               2040\n",
       "label                  0\n",
       "StudyInstanceUID       0\n",
       "dtype: int64"
      ]
     },
     "execution_count": 6,
     "metadata": {},
     "output_type": "execute_result"
    }
   ],
   "source": [
    "df_image.isna().sum()"
   ]
  },
  {
   "cell_type": "code",
   "execution_count": 7,
   "id": "50692b47",
   "metadata": {
    "hidden": true
   },
   "outputs": [
    {
     "data": {
      "text/plain": [
       "0"
      ]
     },
     "execution_count": 7,
     "metadata": {},
     "output_type": "execute_result"
    }
   ],
   "source": [
    "df_image['id'].duplicated().sum()"
   ]
  },
  {
   "cell_type": "code",
   "execution_count": 8,
   "id": "eb3a93f2",
   "metadata": {
    "hidden": true
   },
   "outputs": [
    {
     "data": {
      "text/plain": [
       "280"
      ]
     },
     "execution_count": 8,
     "metadata": {},
     "output_type": "execute_result"
    }
   ],
   "source": [
    "df_image['StudyInstanceUID'].duplicated().sum()"
   ]
  },
  {
   "cell_type": "markdown",
   "id": "cff00954",
   "metadata": {
    "hidden": true
   },
   "source": [
    "**/!\\ Il y a 280 duplicats d'ID d'études** (StudyInstanceUID) donc pour lesquels il y a au moins 2 images dans l'étude"
   ]
  },
  {
   "cell_type": "code",
   "execution_count": 9,
   "id": "1ed394d8",
   "metadata": {
    "hidden": true
   },
   "outputs": [
    {
     "data": {
      "text/plain": [
       "id                          0\n",
       "Negative for Pneumonia      0\n",
       "Typical Appearance          0\n",
       "Indeterminate Appearance    0\n",
       "Atypical Appearance         0\n",
       "dtype: int64"
      ]
     },
     "execution_count": 9,
     "metadata": {},
     "output_type": "execute_result"
    }
   ],
   "source": [
    "df_study.isnull().sum()"
   ]
  },
  {
   "cell_type": "code",
   "execution_count": 10,
   "id": "f715b54a",
   "metadata": {
    "hidden": true
   },
   "outputs": [],
   "source": [
    "def clear_id_image(image_id): \n",
    "    image_id = image_id.replace('_image','')\n",
    "    return image_id\n",
    "\n",
    "def clear_id_study(study_id): \n",
    "    study_id = study_id.replace('_study','')\n",
    "    return study_id"
   ]
  },
  {
   "cell_type": "code",
   "execution_count": 11,
   "id": "02d08ca4",
   "metadata": {
    "hidden": true
   },
   "outputs": [
    {
     "data": {
      "text/html": [
       "<div>\n",
       "<style scoped>\n",
       "    .dataframe tbody tr th:only-of-type {\n",
       "        vertical-align: middle;\n",
       "    }\n",
       "\n",
       "    .dataframe tbody tr th {\n",
       "        vertical-align: top;\n",
       "    }\n",
       "\n",
       "    .dataframe thead th {\n",
       "        text-align: right;\n",
       "    }\n",
       "</style>\n",
       "<table border=\"1\" class=\"dataframe\">\n",
       "  <thead>\n",
       "    <tr style=\"text-align: right;\">\n",
       "      <th></th>\n",
       "      <th>id</th>\n",
       "      <th>boxes</th>\n",
       "      <th>label</th>\n",
       "      <th>StudyInstanceUID</th>\n",
       "      <th>image_id</th>\n",
       "    </tr>\n",
       "  </thead>\n",
       "  <tbody>\n",
       "    <tr>\n",
       "      <th>0</th>\n",
       "      <td>000a312787f2_image</td>\n",
       "      <td>[{'x': 789.28836, 'y': 582.43035, 'width': 102...</td>\n",
       "      <td>opacity 1 789.28836 582.43035 1815.94498 2499....</td>\n",
       "      <td>5776db0cec75</td>\n",
       "      <td>000a312787f2</td>\n",
       "    </tr>\n",
       "    <tr>\n",
       "      <th>1</th>\n",
       "      <td>000c3a3f293f_image</td>\n",
       "      <td>NaN</td>\n",
       "      <td>none 1 0 0 1 1</td>\n",
       "      <td>ff0879eb20ed</td>\n",
       "      <td>000c3a3f293f</td>\n",
       "    </tr>\n",
       "    <tr>\n",
       "      <th>2</th>\n",
       "      <td>0012ff7358bc_image</td>\n",
       "      <td>[{'x': 677.42216, 'y': 197.97662, 'width': 867...</td>\n",
       "      <td>opacity 1 677.42216 197.97662 1545.21983 1197....</td>\n",
       "      <td>9d514ce429a7</td>\n",
       "      <td>0012ff7358bc</td>\n",
       "    </tr>\n",
       "    <tr>\n",
       "      <th>3</th>\n",
       "      <td>001398f4ff4f_image</td>\n",
       "      <td>[{'x': 2729, 'y': 2181.33331, 'width': 948.000...</td>\n",
       "      <td>opacity 1 2729 2181.33331 3677.00012 2785.33331</td>\n",
       "      <td>28dddc8559b2</td>\n",
       "      <td>001398f4ff4f</td>\n",
       "    </tr>\n",
       "    <tr>\n",
       "      <th>4</th>\n",
       "      <td>001bd15d1891_image</td>\n",
       "      <td>[{'x': 623.23328, 'y': 1050, 'width': 714, 'he...</td>\n",
       "      <td>opacity 1 623.23328 1050 1337.23328 2156 opaci...</td>\n",
       "      <td>dfd9fdd85a3e</td>\n",
       "      <td>001bd15d1891</td>\n",
       "    </tr>\n",
       "  </tbody>\n",
       "</table>\n",
       "</div>"
      ],
      "text/plain": [
       "                   id                                              boxes  \\\n",
       "0  000a312787f2_image  [{'x': 789.28836, 'y': 582.43035, 'width': 102...   \n",
       "1  000c3a3f293f_image                                                NaN   \n",
       "2  0012ff7358bc_image  [{'x': 677.42216, 'y': 197.97662, 'width': 867...   \n",
       "3  001398f4ff4f_image  [{'x': 2729, 'y': 2181.33331, 'width': 948.000...   \n",
       "4  001bd15d1891_image  [{'x': 623.23328, 'y': 1050, 'width': 714, 'he...   \n",
       "\n",
       "                                               label StudyInstanceUID  \\\n",
       "0  opacity 1 789.28836 582.43035 1815.94498 2499....     5776db0cec75   \n",
       "1                                     none 1 0 0 1 1     ff0879eb20ed   \n",
       "2  opacity 1 677.42216 197.97662 1545.21983 1197....     9d514ce429a7   \n",
       "3    opacity 1 2729 2181.33331 3677.00012 2785.33331     28dddc8559b2   \n",
       "4  opacity 1 623.23328 1050 1337.23328 2156 opaci...     dfd9fdd85a3e   \n",
       "\n",
       "       image_id  \n",
       "0  000a312787f2  \n",
       "1  000c3a3f293f  \n",
       "2  0012ff7358bc  \n",
       "3  001398f4ff4f  \n",
       "4  001bd15d1891  "
      ]
     },
     "execution_count": 11,
     "metadata": {},
     "output_type": "execute_result"
    }
   ],
   "source": [
    "df_image['image_id'] = df_image['id'].apply(clear_id_image)\n",
    "df_image.head()"
   ]
  },
  {
   "cell_type": "code",
   "execution_count": 12,
   "id": "53ef4f37",
   "metadata": {
    "hidden": true
   },
   "outputs": [
    {
     "data": {
      "text/html": [
       "<div>\n",
       "<style scoped>\n",
       "    .dataframe tbody tr th:only-of-type {\n",
       "        vertical-align: middle;\n",
       "    }\n",
       "\n",
       "    .dataframe tbody tr th {\n",
       "        vertical-align: top;\n",
       "    }\n",
       "\n",
       "    .dataframe thead th {\n",
       "        text-align: right;\n",
       "    }\n",
       "</style>\n",
       "<table border=\"1\" class=\"dataframe\">\n",
       "  <thead>\n",
       "    <tr style=\"text-align: right;\">\n",
       "      <th></th>\n",
       "      <th>id</th>\n",
       "      <th>Negative for Pneumonia</th>\n",
       "      <th>Typical Appearance</th>\n",
       "      <th>Indeterminate Appearance</th>\n",
       "      <th>Atypical Appearance</th>\n",
       "      <th>StudyInstanceUID</th>\n",
       "    </tr>\n",
       "  </thead>\n",
       "  <tbody>\n",
       "    <tr>\n",
       "      <th>0</th>\n",
       "      <td>00086460a852_study</td>\n",
       "      <td>0</td>\n",
       "      <td>1</td>\n",
       "      <td>0</td>\n",
       "      <td>0</td>\n",
       "      <td>00086460a852</td>\n",
       "    </tr>\n",
       "    <tr>\n",
       "      <th>1</th>\n",
       "      <td>000c9c05fd14_study</td>\n",
       "      <td>0</td>\n",
       "      <td>0</td>\n",
       "      <td>0</td>\n",
       "      <td>1</td>\n",
       "      <td>000c9c05fd14</td>\n",
       "    </tr>\n",
       "    <tr>\n",
       "      <th>2</th>\n",
       "      <td>00292f8c37bd_study</td>\n",
       "      <td>1</td>\n",
       "      <td>0</td>\n",
       "      <td>0</td>\n",
       "      <td>0</td>\n",
       "      <td>00292f8c37bd</td>\n",
       "    </tr>\n",
       "    <tr>\n",
       "      <th>3</th>\n",
       "      <td>005057b3f880_study</td>\n",
       "      <td>1</td>\n",
       "      <td>0</td>\n",
       "      <td>0</td>\n",
       "      <td>0</td>\n",
       "      <td>005057b3f880</td>\n",
       "    </tr>\n",
       "    <tr>\n",
       "      <th>4</th>\n",
       "      <td>0051d9b12e72_study</td>\n",
       "      <td>0</td>\n",
       "      <td>0</td>\n",
       "      <td>0</td>\n",
       "      <td>1</td>\n",
       "      <td>0051d9b12e72</td>\n",
       "    </tr>\n",
       "  </tbody>\n",
       "</table>\n",
       "</div>"
      ],
      "text/plain": [
       "                   id  Negative for Pneumonia  Typical Appearance  \\\n",
       "0  00086460a852_study                       0                   1   \n",
       "1  000c9c05fd14_study                       0                   0   \n",
       "2  00292f8c37bd_study                       1                   0   \n",
       "3  005057b3f880_study                       1                   0   \n",
       "4  0051d9b12e72_study                       0                   0   \n",
       "\n",
       "   Indeterminate Appearance  Atypical Appearance StudyInstanceUID  \n",
       "0                         0                    0     00086460a852  \n",
       "1                         0                    1     000c9c05fd14  \n",
       "2                         0                    0     00292f8c37bd  \n",
       "3                         0                    0     005057b3f880  \n",
       "4                         0                    1     0051d9b12e72  "
      ]
     },
     "execution_count": 12,
     "metadata": {},
     "output_type": "execute_result"
    }
   ],
   "source": [
    "df_study['StudyInstanceUID'] = df_study['id'].apply(clear_id_study)\n",
    "df_study.head()"
   ]
  },
  {
   "cell_type": "code",
   "execution_count": 13,
   "id": "7abacfa9",
   "metadata": {
    "hidden": true
   },
   "outputs": [
    {
     "name": "stdout",
     "output_type": "stream",
     "text": [
      "(6334, 8)\n"
     ]
    },
    {
     "data": {
      "text/html": [
       "<div>\n",
       "<style scoped>\n",
       "    .dataframe tbody tr th:only-of-type {\n",
       "        vertical-align: middle;\n",
       "    }\n",
       "\n",
       "    .dataframe tbody tr th {\n",
       "        vertical-align: top;\n",
       "    }\n",
       "\n",
       "    .dataframe thead th {\n",
       "        text-align: right;\n",
       "    }\n",
       "</style>\n",
       "<table border=\"1\" class=\"dataframe\">\n",
       "  <thead>\n",
       "    <tr style=\"text-align: right;\">\n",
       "      <th></th>\n",
       "      <th>boxes</th>\n",
       "      <th>label</th>\n",
       "      <th>StudyInstanceUID</th>\n",
       "      <th>image_id</th>\n",
       "      <th>Negative for Pneumonia</th>\n",
       "      <th>Typical Appearance</th>\n",
       "      <th>Indeterminate Appearance</th>\n",
       "      <th>Atypical Appearance</th>\n",
       "    </tr>\n",
       "  </thead>\n",
       "  <tbody>\n",
       "    <tr>\n",
       "      <th>0</th>\n",
       "      <td>[{'x': 789.28836, 'y': 582.43035, 'width': 102...</td>\n",
       "      <td>opacity 1 789.28836 582.43035 1815.94498 2499....</td>\n",
       "      <td>5776db0cec75</td>\n",
       "      <td>000a312787f2</td>\n",
       "      <td>0</td>\n",
       "      <td>1</td>\n",
       "      <td>0</td>\n",
       "      <td>0</td>\n",
       "    </tr>\n",
       "    <tr>\n",
       "      <th>1</th>\n",
       "      <td>NaN</td>\n",
       "      <td>none 1 0 0 1 1</td>\n",
       "      <td>ff0879eb20ed</td>\n",
       "      <td>000c3a3f293f</td>\n",
       "      <td>1</td>\n",
       "      <td>0</td>\n",
       "      <td>0</td>\n",
       "      <td>0</td>\n",
       "    </tr>\n",
       "    <tr>\n",
       "      <th>2</th>\n",
       "      <td>[{'x': 677.42216, 'y': 197.97662, 'width': 867...</td>\n",
       "      <td>opacity 1 677.42216 197.97662 1545.21983 1197....</td>\n",
       "      <td>9d514ce429a7</td>\n",
       "      <td>0012ff7358bc</td>\n",
       "      <td>0</td>\n",
       "      <td>1</td>\n",
       "      <td>0</td>\n",
       "      <td>0</td>\n",
       "    </tr>\n",
       "    <tr>\n",
       "      <th>3</th>\n",
       "      <td>[{'x': 2729, 'y': 2181.33331, 'width': 948.000...</td>\n",
       "      <td>opacity 1 2729 2181.33331 3677.00012 2785.33331</td>\n",
       "      <td>28dddc8559b2</td>\n",
       "      <td>001398f4ff4f</td>\n",
       "      <td>0</td>\n",
       "      <td>0</td>\n",
       "      <td>0</td>\n",
       "      <td>1</td>\n",
       "    </tr>\n",
       "    <tr>\n",
       "      <th>4</th>\n",
       "      <td>[{'x': 623.23328, 'y': 1050, 'width': 714, 'he...</td>\n",
       "      <td>opacity 1 623.23328 1050 1337.23328 2156 opaci...</td>\n",
       "      <td>dfd9fdd85a3e</td>\n",
       "      <td>001bd15d1891</td>\n",
       "      <td>0</td>\n",
       "      <td>1</td>\n",
       "      <td>0</td>\n",
       "      <td>0</td>\n",
       "    </tr>\n",
       "  </tbody>\n",
       "</table>\n",
       "</div>"
      ],
      "text/plain": [
       "                                               boxes  \\\n",
       "0  [{'x': 789.28836, 'y': 582.43035, 'width': 102...   \n",
       "1                                                NaN   \n",
       "2  [{'x': 677.42216, 'y': 197.97662, 'width': 867...   \n",
       "3  [{'x': 2729, 'y': 2181.33331, 'width': 948.000...   \n",
       "4  [{'x': 623.23328, 'y': 1050, 'width': 714, 'he...   \n",
       "\n",
       "                                               label StudyInstanceUID  \\\n",
       "0  opacity 1 789.28836 582.43035 1815.94498 2499....     5776db0cec75   \n",
       "1                                     none 1 0 0 1 1     ff0879eb20ed   \n",
       "2  opacity 1 677.42216 197.97662 1545.21983 1197....     9d514ce429a7   \n",
       "3    opacity 1 2729 2181.33331 3677.00012 2785.33331     28dddc8559b2   \n",
       "4  opacity 1 623.23328 1050 1337.23328 2156 opaci...     dfd9fdd85a3e   \n",
       "\n",
       "       image_id  Negative for Pneumonia  Typical Appearance  \\\n",
       "0  000a312787f2                       0                   1   \n",
       "1  000c3a3f293f                       1                   0   \n",
       "2  0012ff7358bc                       0                   1   \n",
       "3  001398f4ff4f                       0                   0   \n",
       "4  001bd15d1891                       0                   1   \n",
       "\n",
       "   Indeterminate Appearance  Atypical Appearance  \n",
       "0                         0                    0  \n",
       "1                         0                    0  \n",
       "2                         0                    0  \n",
       "3                         0                    1  \n",
       "4                         0                    0  "
      ]
     },
     "execution_count": 13,
     "metadata": {},
     "output_type": "execute_result"
    }
   ],
   "source": [
    "df = (df_image.drop(columns='id')).merge(df_study.drop(columns='id'), on ='StudyInstanceUID', how='left')\n",
    "print(df.shape)\n",
    "df.head()"
   ]
  },
  {
   "cell_type": "code",
   "execution_count": 14,
   "id": "c9c0e1d2",
   "metadata": {
    "hidden": true
   },
   "outputs": [
    {
     "data": {
      "text/plain": [
       "boxes                       2040\n",
       "label                          0\n",
       "StudyInstanceUID               0\n",
       "image_id                       0\n",
       "Negative for Pneumonia         0\n",
       "Typical Appearance             0\n",
       "Indeterminate Appearance       0\n",
       "Atypical Appearance            0\n",
       "dtype: int64"
      ]
     },
     "execution_count": 14,
     "metadata": {},
     "output_type": "execute_result"
    }
   ],
   "source": [
    "df.isna().sum()"
   ]
  },
  {
   "cell_type": "code",
   "execution_count": 15,
   "id": "16210393",
   "metadata": {
    "hidden": true
   },
   "outputs": [
    {
     "data": {
      "text/plain": [
       "6334"
      ]
     },
     "execution_count": 15,
     "metadata": {},
     "output_type": "execute_result"
    }
   ],
   "source": [
    "df[['Negative for Pneumonia','Typical Appearance','Indeterminate Appearance','Atypical Appearance']].value_counts().sum()"
   ]
  },
  {
   "cell_type": "code",
   "execution_count": 16,
   "id": "89603e85",
   "metadata": {
    "hidden": true
   },
   "outputs": [
    {
     "data": {
      "text/plain": [
       "Negative for Pneumonia  Typical Appearance  Indeterminate Appearance  Atypical Appearance\n",
       "0                       1                   0                         0                      3007\n",
       "1                       0                   0                         0                      1736\n",
       "0                       0                   1                         0                      1108\n",
       "                                            0                         1                       483\n",
       "dtype: int64"
      ]
     },
     "execution_count": 16,
     "metadata": {},
     "output_type": "execute_result"
    }
   ],
   "source": [
    "df[['Negative for Pneumonia','Typical Appearance','Indeterminate Appearance','Atypical Appearance']].value_counts()"
   ]
  },
  {
   "cell_type": "markdown",
   "id": "f30fd0f7",
   "metadata": {},
   "source": [
    "## Dataframe simplifié pour tâche de classification seule"
   ]
  },
  {
   "cell_type": "code",
   "execution_count": 17,
   "id": "d365ac65",
   "metadata": {},
   "outputs": [
    {
     "data": {
      "text/html": [
       "<div>\n",
       "<style scoped>\n",
       "    .dataframe tbody tr th:only-of-type {\n",
       "        vertical-align: middle;\n",
       "    }\n",
       "\n",
       "    .dataframe tbody tr th {\n",
       "        vertical-align: top;\n",
       "    }\n",
       "\n",
       "    .dataframe thead th {\n",
       "        text-align: right;\n",
       "    }\n",
       "</style>\n",
       "<table border=\"1\" class=\"dataframe\">\n",
       "  <thead>\n",
       "    <tr style=\"text-align: right;\">\n",
       "      <th></th>\n",
       "      <th>StudyInstanceUID</th>\n",
       "      <th>image_id</th>\n",
       "      <th>Negative for Pneumonia</th>\n",
       "      <th>Typical Appearance</th>\n",
       "      <th>Indeterminate Appearance</th>\n",
       "      <th>Atypical Appearance</th>\n",
       "    </tr>\n",
       "  </thead>\n",
       "  <tbody>\n",
       "    <tr>\n",
       "      <th>0</th>\n",
       "      <td>5776db0cec75</td>\n",
       "      <td>000a312787f2</td>\n",
       "      <td>0</td>\n",
       "      <td>1</td>\n",
       "      <td>0</td>\n",
       "      <td>0</td>\n",
       "    </tr>\n",
       "    <tr>\n",
       "      <th>1</th>\n",
       "      <td>ff0879eb20ed</td>\n",
       "      <td>000c3a3f293f</td>\n",
       "      <td>1</td>\n",
       "      <td>0</td>\n",
       "      <td>0</td>\n",
       "      <td>0</td>\n",
       "    </tr>\n",
       "    <tr>\n",
       "      <th>2</th>\n",
       "      <td>9d514ce429a7</td>\n",
       "      <td>0012ff7358bc</td>\n",
       "      <td>0</td>\n",
       "      <td>1</td>\n",
       "      <td>0</td>\n",
       "      <td>0</td>\n",
       "    </tr>\n",
       "    <tr>\n",
       "      <th>3</th>\n",
       "      <td>28dddc8559b2</td>\n",
       "      <td>001398f4ff4f</td>\n",
       "      <td>0</td>\n",
       "      <td>0</td>\n",
       "      <td>0</td>\n",
       "      <td>1</td>\n",
       "    </tr>\n",
       "    <tr>\n",
       "      <th>4</th>\n",
       "      <td>dfd9fdd85a3e</td>\n",
       "      <td>001bd15d1891</td>\n",
       "      <td>0</td>\n",
       "      <td>1</td>\n",
       "      <td>0</td>\n",
       "      <td>0</td>\n",
       "    </tr>\n",
       "  </tbody>\n",
       "</table>\n",
       "</div>"
      ],
      "text/plain": [
       "  StudyInstanceUID      image_id  Negative for Pneumonia  Typical Appearance  \\\n",
       "0     5776db0cec75  000a312787f2                       0                   1   \n",
       "1     ff0879eb20ed  000c3a3f293f                       1                   0   \n",
       "2     9d514ce429a7  0012ff7358bc                       0                   1   \n",
       "3     28dddc8559b2  001398f4ff4f                       0                   0   \n",
       "4     dfd9fdd85a3e  001bd15d1891                       0                   1   \n",
       "\n",
       "   Indeterminate Appearance  Atypical Appearance  \n",
       "0                         0                    0  \n",
       "1                         0                    0  \n",
       "2                         0                    0  \n",
       "3                         0                    1  \n",
       "4                         0                    0  "
      ]
     },
     "execution_count": 17,
     "metadata": {},
     "output_type": "execute_result"
    }
   ],
   "source": [
    "df_simple = df.drop(columns=['boxes','label'])\n",
    "df_simple.head()"
   ]
  },
  {
   "cell_type": "code",
   "execution_count": 18,
   "id": "3669814a",
   "metadata": {},
   "outputs": [
    {
     "data": {
      "text/plain": [
       "(6334, 6)"
      ]
     },
     "execution_count": 18,
     "metadata": {},
     "output_type": "execute_result"
    }
   ],
   "source": [
    "df_simple.shape"
   ]
  },
  {
   "cell_type": "code",
   "execution_count": 19,
   "id": "aa659a3b",
   "metadata": {},
   "outputs": [
    {
     "data": {
      "text/plain": [
       "StudyInstanceUID            0\n",
       "image_id                    0\n",
       "Negative for Pneumonia      0\n",
       "Typical Appearance          0\n",
       "Indeterminate Appearance    0\n",
       "Atypical Appearance         0\n",
       "dtype: int64"
      ]
     },
     "execution_count": 19,
     "metadata": {},
     "output_type": "execute_result"
    }
   ],
   "source": [
    "df_simple.isna().sum()"
   ]
  },
  {
   "cell_type": "markdown",
   "id": "41820f55",
   "metadata": {},
   "source": [
    "## Utilisation de la colonne 'boxes'"
   ]
  },
  {
   "cell_type": "markdown",
   "id": "bf649e2a",
   "metadata": {
    "heading_collapsed": true
   },
   "source": [
    "### Traitement des NaN"
   ]
  },
  {
   "cell_type": "code",
   "execution_count": 20,
   "id": "b62eb1c7",
   "metadata": {
    "hidden": true
   },
   "outputs": [
    {
     "data": {
      "text/plain": [
       "2040"
      ]
     },
     "execution_count": 20,
     "metadata": {},
     "output_type": "execute_result"
    }
   ],
   "source": [
    "df_image['boxes'].isna().sum()"
   ]
  },
  {
   "cell_type": "code",
   "execution_count": 21,
   "id": "c78bf1fe",
   "metadata": {
    "hidden": true
   },
   "outputs": [
    {
     "name": "stdout",
     "output_type": "stream",
     "text": [
      "Negative for Pneumonia  Typical Appearance  Indeterminate Appearance  Atypical Appearance\n",
      "1                       0                   0                         0                      1736\n",
      "0                       1                   0                         0                       153\n",
      "                        0                   0                         1                        92\n",
      "                                            1                         0                        59\n",
      "dtype: int64\n",
      "none 1 0 0 1 1    2040\n",
      "Name: label, dtype: int64\n"
     ]
    },
    {
     "data": {
      "text/html": [
       "<div>\n",
       "<style scoped>\n",
       "    .dataframe tbody tr th:only-of-type {\n",
       "        vertical-align: middle;\n",
       "    }\n",
       "\n",
       "    .dataframe tbody tr th {\n",
       "        vertical-align: top;\n",
       "    }\n",
       "\n",
       "    .dataframe thead th {\n",
       "        text-align: right;\n",
       "    }\n",
       "</style>\n",
       "<table border=\"1\" class=\"dataframe\">\n",
       "  <thead>\n",
       "    <tr style=\"text-align: right;\">\n",
       "      <th></th>\n",
       "      <th>boxes</th>\n",
       "      <th>label</th>\n",
       "      <th>StudyInstanceUID</th>\n",
       "      <th>image_id</th>\n",
       "      <th>Negative for Pneumonia</th>\n",
       "      <th>Typical Appearance</th>\n",
       "      <th>Indeterminate Appearance</th>\n",
       "      <th>Atypical Appearance</th>\n",
       "    </tr>\n",
       "  </thead>\n",
       "  <tbody>\n",
       "    <tr>\n",
       "      <th>1</th>\n",
       "      <td>NaN</td>\n",
       "      <td>none 1 0 0 1 1</td>\n",
       "      <td>ff0879eb20ed</td>\n",
       "      <td>000c3a3f293f</td>\n",
       "      <td>1</td>\n",
       "      <td>0</td>\n",
       "      <td>0</td>\n",
       "      <td>0</td>\n",
       "    </tr>\n",
       "    <tr>\n",
       "      <th>6</th>\n",
       "      <td>NaN</td>\n",
       "      <td>none 1 0 0 1 1</td>\n",
       "      <td>2fa400b873f5</td>\n",
       "      <td>0023f02ae886</td>\n",
       "      <td>1</td>\n",
       "      <td>0</td>\n",
       "      <td>0</td>\n",
       "      <td>0</td>\n",
       "    </tr>\n",
       "    <tr>\n",
       "      <th>22</th>\n",
       "      <td>NaN</td>\n",
       "      <td>none 1 0 0 1 1</td>\n",
       "      <td>1a58b43cf286</td>\n",
       "      <td>00c1515729a8</td>\n",
       "      <td>0</td>\n",
       "      <td>1</td>\n",
       "      <td>0</td>\n",
       "      <td>0</td>\n",
       "    </tr>\n",
       "    <tr>\n",
       "      <th>24</th>\n",
       "      <td>NaN</td>\n",
       "      <td>none 1 0 0 1 1</td>\n",
       "      <td>74ba8f2badcb</td>\n",
       "      <td>00e3a7e91a34</td>\n",
       "      <td>1</td>\n",
       "      <td>0</td>\n",
       "      <td>0</td>\n",
       "      <td>0</td>\n",
       "    </tr>\n",
       "    <tr>\n",
       "      <th>26</th>\n",
       "      <td>NaN</td>\n",
       "      <td>none 1 0 0 1 1</td>\n",
       "      <td>2a7b4e669dda</td>\n",
       "      <td>010214f9b600</td>\n",
       "      <td>1</td>\n",
       "      <td>0</td>\n",
       "      <td>0</td>\n",
       "      <td>0</td>\n",
       "    </tr>\n",
       "  </tbody>\n",
       "</table>\n",
       "</div>"
      ],
      "text/plain": [
       "   boxes           label StudyInstanceUID      image_id  \\\n",
       "1    NaN  none 1 0 0 1 1     ff0879eb20ed  000c3a3f293f   \n",
       "6    NaN  none 1 0 0 1 1     2fa400b873f5  0023f02ae886   \n",
       "22   NaN  none 1 0 0 1 1     1a58b43cf286  00c1515729a8   \n",
       "24   NaN  none 1 0 0 1 1     74ba8f2badcb  00e3a7e91a34   \n",
       "26   NaN  none 1 0 0 1 1     2a7b4e669dda  010214f9b600   \n",
       "\n",
       "    Negative for Pneumonia  Typical Appearance  Indeterminate Appearance  \\\n",
       "1                        1                   0                         0   \n",
       "6                        1                   0                         0   \n",
       "22                       0                   1                         0   \n",
       "24                       1                   0                         0   \n",
       "26                       1                   0                         0   \n",
       "\n",
       "    Atypical Appearance  \n",
       "1                     0  \n",
       "6                     0  \n",
       "22                    0  \n",
       "24                    0  \n",
       "26                    0  "
      ]
     },
     "execution_count": 21,
     "metadata": {},
     "output_type": "execute_result"
    }
   ],
   "source": [
    "df_nan = df.loc[df_image['boxes'].isna() == True ]\n",
    "print(df_nan[['Negative for Pneumonia','Typical Appearance','Indeterminate Appearance','Atypical Appearance']].value_counts())\n",
    "print(df_nan['label'].value_counts())\n",
    "df_nan.head(5)"
   ]
  },
  {
   "cell_type": "markdown",
   "id": "15c0c126",
   "metadata": {
    "hidden": true
   },
   "source": [
    "**/!\\ Les 1736 'Negative for Pneumonia' ont tous NaN dans la colonne 'boxes', mais pas tous les NaN correspondent à 'Negative for Pneumonia'**\n",
    "\n",
    "Aussi, toutes les boxes NaN ont un label associé 'none 1 0 0 1 1'"
   ]
  },
  {
   "cell_type": "markdown",
   "id": "a1cd50bd",
   "metadata": {
    "heading_collapsed": true
   },
   "source": [
    "### Exportation des infos"
   ]
  },
  {
   "cell_type": "code",
   "execution_count": null,
   "id": "9f3e1dcb",
   "metadata": {
    "hidden": true
   },
   "outputs": [],
   "source": []
  },
  {
   "cell_type": "code",
   "execution_count": null,
   "id": "30b0f924",
   "metadata": {
    "hidden": true
   },
   "outputs": [],
   "source": []
  },
  {
   "cell_type": "markdown",
   "id": "521046b2",
   "metadata": {},
   "source": [
    "## Fusion avec les datas images"
   ]
  },
  {
   "cell_type": "code",
   "execution_count": 22,
   "id": "5c331483",
   "metadata": {},
   "outputs": [],
   "source": [
    "def load_image_data():\n",
    "    data_path = os.path.join('..','raw_data')\n",
    "    file_names = [f for f in os.listdir(data_path) if f.endswith('.dcm')]\n",
    "    image_id = [key_name.replace('.dcm','') for key_name in file_names]\n",
    "    image_data = []\n",
    "    for ids,file in zip(image_id, file_names):\n",
    "        ds = dcmread(os.path.join(data_path, file))\n",
    "        image_data.append([ids, ds.StudyInstanceUID, ds.PatientSex, ds.Rows, ds.Columns, ds.pixel_array])\n",
    "    return image_data"
   ]
  },
  {
   "cell_type": "code",
   "execution_count": 23,
   "id": "72b022f3",
   "metadata": {},
   "outputs": [
    {
     "name": "stdout",
     "output_type": "stream",
     "text": [
      "(5, 6)\n"
     ]
    },
    {
     "data": {
      "text/html": [
       "<div>\n",
       "<style scoped>\n",
       "    .dataframe tbody tr th:only-of-type {\n",
       "        vertical-align: middle;\n",
       "    }\n",
       "\n",
       "    .dataframe tbody tr th {\n",
       "        vertical-align: top;\n",
       "    }\n",
       "\n",
       "    .dataframe thead th {\n",
       "        text-align: right;\n",
       "    }\n",
       "</style>\n",
       "<table border=\"1\" class=\"dataframe\">\n",
       "  <thead>\n",
       "    <tr style=\"text-align: right;\">\n",
       "      <th></th>\n",
       "      <th>image_id</th>\n",
       "      <th>image_StudyInstanceUID</th>\n",
       "      <th>Patient_Sex</th>\n",
       "      <th>image_Rows</th>\n",
       "      <th>image_Columns</th>\n",
       "      <th>Pixel_array</th>\n",
       "    </tr>\n",
       "  </thead>\n",
       "  <tbody>\n",
       "    <tr>\n",
       "      <th>0</th>\n",
       "      <td>65761e66de9f</td>\n",
       "      <td>00086460a852</td>\n",
       "      <td>F</td>\n",
       "      <td>2330</td>\n",
       "      <td>2783</td>\n",
       "      <td>[[1392, 1389, 1390, 1390, 1350, 1385, 1360, 13...</td>\n",
       "    </tr>\n",
       "    <tr>\n",
       "      <th>1</th>\n",
       "      <td>51759b5579bc</td>\n",
       "      <td>000c9c05fd14</td>\n",
       "      <td>M</td>\n",
       "      <td>3093</td>\n",
       "      <td>2850</td>\n",
       "      <td>[[82, 81, 80, 81, 79, 80, 81, 78, 79, 77, 76, ...</td>\n",
       "    </tr>\n",
       "    <tr>\n",
       "      <th>2</th>\n",
       "      <td>bb4b1da810f3</td>\n",
       "      <td>0051d9b12e72</td>\n",
       "      <td>F</td>\n",
       "      <td>2336</td>\n",
       "      <td>2836</td>\n",
       "      <td>[[24335, 24448, 24548, 24551, 24336, 24244, 24...</td>\n",
       "    </tr>\n",
       "    <tr>\n",
       "      <th>3</th>\n",
       "      <td>3019399c31f4</td>\n",
       "      <td>005057b3f880</td>\n",
       "      <td>F</td>\n",
       "      <td>3052</td>\n",
       "      <td>3052</td>\n",
       "      <td>[[2848, 2863, 2885, 2891, 2899, 2919, 2894, 28...</td>\n",
       "    </tr>\n",
       "    <tr>\n",
       "      <th>4</th>\n",
       "      <td>f6293b1c49e2</td>\n",
       "      <td>00292f8c37bd</td>\n",
       "      <td>M</td>\n",
       "      <td>2539</td>\n",
       "      <td>3050</td>\n",
       "      <td>[[86, 88, 86, 86, 87, 86, 87, 87, 87, 87, 87, ...</td>\n",
       "    </tr>\n",
       "  </tbody>\n",
       "</table>\n",
       "</div>"
      ],
      "text/plain": [
       "       image_id image_StudyInstanceUID Patient_Sex  image_Rows  image_Columns  \\\n",
       "0  65761e66de9f           00086460a852           F        2330           2783   \n",
       "1  51759b5579bc           000c9c05fd14           M        3093           2850   \n",
       "2  bb4b1da810f3           0051d9b12e72           F        2336           2836   \n",
       "3  3019399c31f4           005057b3f880           F        3052           3052   \n",
       "4  f6293b1c49e2           00292f8c37bd           M        2539           3050   \n",
       "\n",
       "                                         Pixel_array  \n",
       "0  [[1392, 1389, 1390, 1390, 1350, 1385, 1360, 13...  \n",
       "1  [[82, 81, 80, 81, 79, 80, 81, 78, 79, 77, 76, ...  \n",
       "2  [[24335, 24448, 24548, 24551, 24336, 24244, 24...  \n",
       "3  [[2848, 2863, 2885, 2891, 2899, 2919, 2894, 28...  \n",
       "4  [[86, 88, 86, 86, 87, 86, 87, 87, 87, 87, 87, ...  "
      ]
     },
     "execution_count": 23,
     "metadata": {},
     "output_type": "execute_result"
    }
   ],
   "source": [
    "image_data = load_image_data()\n",
    "images_df = pd.DataFrame(image_data, columns=['image_id','image_StudyInstanceUID','Patient_Sex','image_Rows','image_Columns','Pixel_array'])\n",
    "print(images_df.shape)\n",
    "images_df.head()"
   ]
  },
  {
   "cell_type": "code",
   "execution_count": 24,
   "id": "4943920e",
   "metadata": {
    "scrolled": true
   },
   "outputs": [
    {
     "data": {
      "text/html": [
       "<div>\n",
       "<style scoped>\n",
       "    .dataframe tbody tr th:only-of-type {\n",
       "        vertical-align: middle;\n",
       "    }\n",
       "\n",
       "    .dataframe tbody tr th {\n",
       "        vertical-align: top;\n",
       "    }\n",
       "\n",
       "    .dataframe thead th {\n",
       "        text-align: right;\n",
       "    }\n",
       "</style>\n",
       "<table border=\"1\" class=\"dataframe\">\n",
       "  <thead>\n",
       "    <tr style=\"text-align: right;\">\n",
       "      <th></th>\n",
       "      <th>StudyInstanceUID</th>\n",
       "      <th>image_id</th>\n",
       "      <th>Negative for Pneumonia</th>\n",
       "      <th>Typical Appearance</th>\n",
       "      <th>Indeterminate Appearance</th>\n",
       "      <th>Atypical Appearance</th>\n",
       "      <th>image_StudyInstanceUID</th>\n",
       "      <th>Patient_Sex</th>\n",
       "      <th>image_Rows</th>\n",
       "      <th>image_Columns</th>\n",
       "      <th>Pixel_array</th>\n",
       "    </tr>\n",
       "  </thead>\n",
       "  <tbody>\n",
       "    <tr>\n",
       "      <th>0</th>\n",
       "      <td>005057b3f880</td>\n",
       "      <td>3019399c31f4</td>\n",
       "      <td>1</td>\n",
       "      <td>0</td>\n",
       "      <td>0</td>\n",
       "      <td>0</td>\n",
       "      <td>005057b3f880</td>\n",
       "      <td>F</td>\n",
       "      <td>3052</td>\n",
       "      <td>3052</td>\n",
       "      <td>[[2848, 2863, 2885, 2891, 2899, 2919, 2894, 28...</td>\n",
       "    </tr>\n",
       "    <tr>\n",
       "      <th>1</th>\n",
       "      <td>000c9c05fd14</td>\n",
       "      <td>51759b5579bc</td>\n",
       "      <td>0</td>\n",
       "      <td>0</td>\n",
       "      <td>0</td>\n",
       "      <td>1</td>\n",
       "      <td>000c9c05fd14</td>\n",
       "      <td>M</td>\n",
       "      <td>3093</td>\n",
       "      <td>2850</td>\n",
       "      <td>[[82, 81, 80, 81, 79, 80, 81, 78, 79, 77, 76, ...</td>\n",
       "    </tr>\n",
       "    <tr>\n",
       "      <th>2</th>\n",
       "      <td>00086460a852</td>\n",
       "      <td>65761e66de9f</td>\n",
       "      <td>0</td>\n",
       "      <td>1</td>\n",
       "      <td>0</td>\n",
       "      <td>0</td>\n",
       "      <td>00086460a852</td>\n",
       "      <td>F</td>\n",
       "      <td>2330</td>\n",
       "      <td>2783</td>\n",
       "      <td>[[1392, 1389, 1390, 1390, 1350, 1385, 1360, 13...</td>\n",
       "    </tr>\n",
       "    <tr>\n",
       "      <th>3</th>\n",
       "      <td>0051d9b12e72</td>\n",
       "      <td>bb4b1da810f3</td>\n",
       "      <td>0</td>\n",
       "      <td>0</td>\n",
       "      <td>0</td>\n",
       "      <td>1</td>\n",
       "      <td>0051d9b12e72</td>\n",
       "      <td>F</td>\n",
       "      <td>2336</td>\n",
       "      <td>2836</td>\n",
       "      <td>[[24335, 24448, 24548, 24551, 24336, 24244, 24...</td>\n",
       "    </tr>\n",
       "    <tr>\n",
       "      <th>4</th>\n",
       "      <td>00292f8c37bd</td>\n",
       "      <td>f6293b1c49e2</td>\n",
       "      <td>1</td>\n",
       "      <td>0</td>\n",
       "      <td>0</td>\n",
       "      <td>0</td>\n",
       "      <td>00292f8c37bd</td>\n",
       "      <td>M</td>\n",
       "      <td>2539</td>\n",
       "      <td>3050</td>\n",
       "      <td>[[86, 88, 86, 86, 87, 86, 87, 87, 87, 87, 87, ...</td>\n",
       "    </tr>\n",
       "  </tbody>\n",
       "</table>\n",
       "</div>"
      ],
      "text/plain": [
       "  StudyInstanceUID      image_id  Negative for Pneumonia  Typical Appearance  \\\n",
       "0     005057b3f880  3019399c31f4                       1                   0   \n",
       "1     000c9c05fd14  51759b5579bc                       0                   0   \n",
       "2     00086460a852  65761e66de9f                       0                   1   \n",
       "3     0051d9b12e72  bb4b1da810f3                       0                   0   \n",
       "4     00292f8c37bd  f6293b1c49e2                       1                   0   \n",
       "\n",
       "   Indeterminate Appearance  Atypical Appearance image_StudyInstanceUID  \\\n",
       "0                         0                    0           005057b3f880   \n",
       "1                         0                    1           000c9c05fd14   \n",
       "2                         0                    0           00086460a852   \n",
       "3                         0                    1           0051d9b12e72   \n",
       "4                         0                    0           00292f8c37bd   \n",
       "\n",
       "  Patient_Sex  image_Rows  image_Columns  \\\n",
       "0           F        3052           3052   \n",
       "1           M        3093           2850   \n",
       "2           F        2330           2783   \n",
       "3           F        2336           2836   \n",
       "4           M        2539           3050   \n",
       "\n",
       "                                         Pixel_array  \n",
       "0  [[2848, 2863, 2885, 2891, 2899, 2919, 2894, 28...  \n",
       "1  [[82, 81, 80, 81, 79, 80, 81, 78, 79, 77, 76, ...  \n",
       "2  [[1392, 1389, 1390, 1390, 1350, 1385, 1360, 13...  \n",
       "3  [[24335, 24448, 24548, 24551, 24336, 24244, 24...  \n",
       "4  [[86, 88, 86, 86, 87, 86, 87, 87, 87, 87, 87, ...  "
      ]
     },
     "execution_count": 24,
     "metadata": {},
     "output_type": "execute_result"
    }
   ],
   "source": [
    "big_df = df_simple.merge(images_df, on = 'image_id', how='inner')\n",
    "big_df.head()"
   ]
  },
  {
   "cell_type": "code",
   "execution_count": 25,
   "id": "1718021f",
   "metadata": {},
   "outputs": [],
   "source": [
    "X = big_df['Pixel_array']\n",
    "y = big_df[['Negative for Pneumonia','Typical Appearance','Indeterminate Appearance','Atypical Appearance']]"
   ]
  },
  {
   "cell_type": "code",
   "execution_count": 26,
   "id": "44bb4ba2",
   "metadata": {},
   "outputs": [
    {
     "name": "stdout",
     "output_type": "stream",
     "text": [
      "<class 'pandas.core.series.Series'>\n",
      "(5,)\n"
     ]
    },
    {
     "data": {
      "text/plain": [
       "5"
      ]
     },
     "execution_count": 26,
     "metadata": {},
     "output_type": "execute_result"
    }
   ],
   "source": [
    "print(type(X))\n",
    "print(X.shape)\n",
    "len(X)"
   ]
  },
  {
   "cell_type": "code",
   "execution_count": null,
   "id": "bec1c878",
   "metadata": {},
   "outputs": [],
   "source": [
    "#train_val_test_split ??? :\n",
    "\n",
    "from sklearn.model_selection import train_test_split\n",
    "\n",
    "def train_val_test_split(X,y):\n",
    "    X_bis, X_test, y_bis, y_test = train_test_split(X, y, test_size=0.3)\n",
    "    X_train, X_val, y_train, y_val = train_test_split(X_bis, y_bis, test_size=0.2)\n",
    "    \n",
    "    return X_train, y_train, X_val, y_val, X_test, y_test\n",
    "\n",
    "X_train, y_train, X_val, y_val, X_test, y_test = train_val_test_split(X,y)"
   ]
  },
  {
   "cell_type": "markdown",
   "id": "ec1d1600",
   "metadata": {},
   "source": [
    "## Modèle réseau de neurones"
   ]
  },
  {
   "cell_type": "markdown",
   "id": "382e5db4",
   "metadata": {},
   "source": [
    "**/!\\ CODE COPIé-COLLé DEPUIS LE COURS : à modifier selon nos conditions /!\\**\n",
    "\n",
    "Reshape les images pour avoir un format commun et réduit à passer dans le modèle?"
   ]
  },
  {
   "cell_type": "markdown",
   "id": "0c4f7542",
   "metadata": {
    "heading_collapsed": true
   },
   "source": [
    "### Home-designed model"
   ]
  },
  {
   "cell_type": "code",
   "execution_count": null,
   "id": "83a9d0b7",
   "metadata": {
    "hidden": true
   },
   "outputs": [],
   "source": [
    "from tensorflow.keras import Sequential, layers, models, optimizers\n",
    "from tensorflow.keras.callbacks import EarlyStopping\n",
    "from tensorflow.keras.layers.experimental.preprocessing import Rescaling\n",
    "\n",
    "def load_own_model():\n",
    "\n",
    "    model = Sequential()\n",
    "    model.add(Rescaling(1./255, # input_shape=(256,256,3))) ??\n",
    "\n",
    "    model.add(layers.Conv2D(16, kernel_size=10, activation='relu'))\n",
    "    model.add(layers.MaxPooling2D(3))\n",
    "    \n",
    "    model.add(layers.Conv2D(32, kernel_size=8, activation=\"relu\"))\n",
    "    model.add(layers.MaxPooling2D(3))\n",
    "\n",
    "    model.add(layers.Conv2D(32, kernel_size=6, activation=\"relu\"))\n",
    "    model.add(layers.MaxPooling2D(3))\n",
    "    \n",
    "    model.add(layers.Flatten())\n",
    "    model.add(layers.Dense(100, activation='relu'))\n",
    "    model.add(layers.Dense(3, activation='softmax'))\n",
    "    \n",
    "    opt = optimizers.Adam(learning_rate=1e-4)\n",
    "    model.compile(loss='categorical_crossentropy',\n",
    "                  optimizer=opt,\n",
    "                  metrics=['accuracy'])\n",
    "    \n",
    "    return model\n",
    "\n",
    "model_homemade = load_own_model()\n",
    "model_homemade.summary()"
   ]
  },
  {
   "cell_type": "code",
   "execution_count": null,
   "id": "b824203c",
   "metadata": {
    "hidden": true
   },
   "outputs": [],
   "source": [
    "# ==> es à modifier selon nos paramètres:\n",
    "#es = EarlyStopping(monitor='val_accuracy', mode='max', patience=5, verbose=1, restore_best_weights=True) ??\n",
    "\n",
    "model_homemade.fit(X_train, y_train,\n",
    "         batch_size=128, \n",
    "         epochs=100, \n",
    "         validation_data=(X_val, y_val),\n",
    "         callbacks=[es])"
   ]
  },
  {
   "cell_type": "code",
   "execution_count": null,
   "id": "6ad6294d",
   "metadata": {
    "hidden": true
   },
   "outputs": [],
   "source": [
    "res = model_homemade.evaluate(X_test, y_test)"
   ]
  },
  {
   "cell_type": "code",
   "execution_count": null,
   "id": "8aef01d2",
   "metadata": {
    "hidden": true
   },
   "outputs": [],
   "source": [
    "# ==> à modifier avec nos datas:\n",
    "# print(f'The accuracy is of {res[1]*100:.4f}% compared to a chance level of {1./4*100} %')"
   ]
  },
  {
   "cell_type": "markdown",
   "id": "b23c607e",
   "metadata": {
    "hidden": true
   },
   "source": [
    "**/!\\ CODE COPIé-COLLé DEPUIS LE COURS : à modifier selon nos conditions /!\\**"
   ]
  },
  {
   "cell_type": "code",
   "execution_count": null,
   "id": "223dd255",
   "metadata": {
    "hidden": true
   },
   "outputs": [],
   "source": [
    "def plot_history(history, title='', axs=None, exp_name=\"\"):\n",
    "    if axs is not None:\n",
    "        ax1, ax2 = axs\n",
    "    else:\n",
    "        f, (ax1, ax2) = plt.subplots(1, 2, figsize=(12, 4))\n",
    "    \n",
    "    if len(exp_name) > 0 and exp_name[0] != '_':\n",
    "        exp_name = '_' + exp_name\n",
    "    ax1.plot(history.history['loss'], label='train' + exp_name)\n",
    "    ax1.plot(history.history['val_loss'], label='val' + exp_name)\n",
    "    #ax1.set_ylim(0., 2.2)\n",
    "    ax1.set_title('loss')\n",
    "    ax1.legend()\n",
    "\n",
    "    ax2.plot(history.history['accuracy'], label='train accuracy'  + exp_name)\n",
    "    ax2.plot(history.history['val_accuracy'], label='val accuracy'  + exp_name)\n",
    "    #ax2.set_ylim(0.25, 1.)\n",
    "    ax2.set_title('Accuracy')\n",
    "    ax2.legend()\n",
    "    return (ax1, ax2)"
   ]
  },
  {
   "cell_type": "code",
   "execution_count": null,
   "id": "3983c846",
   "metadata": {
    "hidden": true
   },
   "outputs": [],
   "source": [
    "plot_history(history)"
   ]
  },
  {
   "cell_type": "markdown",
   "id": "caf21cd7",
   "metadata": {
    "heading_collapsed": true
   },
   "source": [
    "### VGG model"
   ]
  },
  {
   "cell_type": "markdown",
   "id": "665b0783",
   "metadata": {
    "hidden": true
   },
   "source": [
    "**/!\\ CODE COPIé-COLLé DEPUIS LE COURS : à modifier selon nos conditions /!\\**"
   ]
  },
  {
   "cell_type": "code",
   "execution_count": null,
   "id": "87b5e6fd",
   "metadata": {
    "hidden": true
   },
   "outputs": [],
   "source": [
    "from tensorflow.keras.applications.vgg16 import VGG16\n",
    "\n",
    "def load_model():\n",
    "    model = VGG16(weights=\"imagenet\", include_top=False, input_shape=X_train[0].shape)\n",
    "    return model\n",
    "\n",
    "model = load_model()\n",
    "model.summary()"
   ]
  },
  {
   "cell_type": "code",
   "execution_count": null,
   "id": "bb3b3504",
   "metadata": {
    "hidden": true
   },
   "outputs": [],
   "source": [
    "def set_nontrainable_layers(model):\n",
    "    # Set the first layers to be untrainable\n",
    "    model.trainable = False\n",
    "    \n",
    "    return model\n",
    "\n",
    "model = set_nontrainable_layers(model)\n",
    "\n",
    "model.summary()"
   ]
  },
  {
   "cell_type": "code",
   "execution_count": null,
   "id": "add85b72",
   "metadata": {
    "hidden": true
   },
   "outputs": [],
   "source": [
    "def add_last_layers(model):\n",
    "    '''Take a pre-trained model, set its parameters as non-trainables, and add additional trainable layers on top'''\n",
    "  \n",
    "    base_model = set_nontrainable_layers(model)\n",
    "    flatten_layer = layers.Flatten()\n",
    "    dense_layer = layers.Dense(500, activation='relu')\n",
    "    prediction_layer = layers.Dense(3, activation='softmax')\n",
    "    \n",
    "    \n",
    "    model = models.Sequential([\n",
    "        base_model,\n",
    "        flatten_layer,\n",
    "        dense_layer,\n",
    "        prediction_layer\n",
    "    ])\n",
    "  \n",
    "    return model\n",
    "\n",
    "model = add_last_layers(model)\n",
    "model.summary()"
   ]
  },
  {
   "cell_type": "code",
   "execution_count": null,
   "id": "f2c95f31",
   "metadata": {
    "hidden": true
   },
   "outputs": [],
   "source": [
    "def build_model():   \n",
    "    model = load_model()\n",
    "    model = add_last_layers(model)\n",
    "    \n",
    "    opt = optimizers.Adam(learning_rate=1e-4)\n",
    "    model.compile(loss='categorical_crossentropy',\n",
    "                  optimizer=opt,\n",
    "                  metrics=['accuracy'])\n",
    "    return model\n",
    "    \n",
    "model = build_model()"
   ]
  },
  {
   "cell_type": "code",
   "execution_count": null,
   "id": "ca23ecd6",
   "metadata": {
    "hidden": true
   },
   "outputs": [],
   "source": [
    "from tensorflow.keras.applications.vgg16 import preprocess_input\n",
    "X_train = preprocess_input(X_train) \n",
    "X_val = preprocess_input(X_val)\n",
    "X_test = preprocess_input(X_test)\n",
    "\n",
    "es = EarlyStopping(monitor='val_accuracy', mode='max', patience=5, verbose=1, restore_best_weights=True)\n",
    "\n",
    "history = model.fit(X_train, y_train, \n",
    "                    validation_data=(X_val, y_val), \n",
    "                    epochs=50, \n",
    "                    batch_size=16, \n",
    "                    callbacks=[es])"
   ]
  },
  {
   "cell_type": "code",
   "execution_count": null,
   "id": "caf02001",
   "metadata": {
    "hidden": true
   },
   "outputs": [],
   "source": [
    "model.evaluate(X_test, y_test)\n",
    "\n",
    "print(f'Chance level: {1./num_classes*100:.4f}%')"
   ]
  },
  {
   "cell_type": "markdown",
   "id": "9d099e58",
   "metadata": {
    "heading_collapsed": true
   },
   "source": [
    "## Data Augmentation"
   ]
  },
  {
   "cell_type": "markdown",
   "id": "0506a45c",
   "metadata": {
    "hidden": true
   },
   "source": [
    "**/!\\ CODE COPIé-COLLé DEPUIS LE COURS : à modifier selon nos conditions /!\\**"
   ]
  },
  {
   "cell_type": "code",
   "execution_count": null,
   "id": "4174c89e",
   "metadata": {
    "hidden": true
   },
   "outputs": [],
   "source": [
    "from keras.preprocessing.image import ImageDataGenerator\n",
    "\n",
    "datagen = ImageDataGenerator(\n",
    "    featurewise_center=False,\n",
    "    featurewise_std_normalization=False,\n",
    "    rotation_range=20,\n",
    "    width_shift_range=0.2,\n",
    "    height_shift_range=0.2,\n",
    "    horizontal_flip=True,\n",
    "    brightness_range=(0.5, 1.),\n",
    "    zoom_range=(0.3, 1.5))\n",
    "\n",
    "\n",
    "# compute quantities required for featurewise normalization\n",
    "# (std, mean, and principal components if ZCA whitening is applied)\n",
    "datagen.fit(X_train)\n",
    "\n",
    "model_data_aug = build_model()\n",
    "\n",
    "train_flow = datagen.flow(X_train, y_train, batch_size=16)\n",
    "val_flow = datagen.flow(X_val, y_val, batch_size=16)\n",
    "\n",
    "es = EarlyStopping(monitor='val_accuracy', mode='max', patience=5, verbose=1, restore_best_weights=True)\n",
    "\n",
    "history_data_aug = model_data_aug.fit(train_flow,\n",
    "                                      epochs=50,\n",
    "                                      validation_data=val_flow, \n",
    "                                      callbacks=[es])"
   ]
  },
  {
   "cell_type": "code",
   "execution_count": null,
   "id": "caeffa14",
   "metadata": {
    "hidden": true
   },
   "outputs": [],
   "source": [
    "plt.plot(history_data_aug.history['accuracy'])\n",
    "plt.plot(history_data_aug.history['val_accuracy'])\n",
    "plt.show()"
   ]
  },
  {
   "cell_type": "code",
   "execution_count": null,
   "id": "4586de4a",
   "metadata": {
    "hidden": true
   },
   "outputs": [],
   "source": []
  },
  {
   "cell_type": "code",
   "execution_count": null,
   "id": "ece73c3d",
   "metadata": {
    "hidden": true
   },
   "outputs": [],
   "source": []
  },
  {
   "cell_type": "code",
   "execution_count": null,
   "id": "762dda50",
   "metadata": {
    "hidden": true
   },
   "outputs": [],
   "source": []
  }
 ],
 "metadata": {
  "kernelspec": {
   "display_name": "Python 3",
   "language": "python",
   "name": "python3"
  },
  "language_info": {
   "codemirror_mode": {
    "name": "ipython",
    "version": 3
   },
   "file_extension": ".py",
   "mimetype": "text/x-python",
   "name": "python",
   "nbconvert_exporter": "python",
   "pygments_lexer": "ipython3",
   "version": "3.8.6"
  },
  "toc": {
   "base_numbering": 1,
   "nav_menu": {},
   "number_sections": true,
   "sideBar": true,
   "skip_h1_title": false,
   "title_cell": "Table of Contents",
   "title_sidebar": "Contents",
   "toc_cell": false,
   "toc_position": {},
   "toc_section_display": true,
   "toc_window_display": false
  }
 },
 "nbformat": 4,
 "nbformat_minor": 5
}
